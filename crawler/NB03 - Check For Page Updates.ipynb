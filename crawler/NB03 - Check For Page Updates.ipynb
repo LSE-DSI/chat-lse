{
 "cells": [
  {
   "cell_type": "code",
   "execution_count": 2,
   "metadata": {},
   "outputs": [
    {
     "name": "stdout",
     "output_type": "stream",
     "text": [
      "Content hash: 298d0b2ae1c2716360e436a375b58c09\n"
     ]
    }
   ],
   "source": [
    "import requests\n",
    "import hashlib\n",
    "\n",
    "url = \"https://coinmarketcap.com/\"\n",
    "\n",
    "response = requests.get(url)\n",
    "content = response.text\n",
    "\n",
    "# Create a hash of the content\n",
    "content_hash = hashlib.md5(content.encode()).hexdigest()\n",
    "\n",
    "print(f\"Content hash: {content_hash}\")\n",
    "\n"
   ]
  },
  {
   "cell_type": "markdown",
   "metadata": {},
   "source": [
    "I waited one minute in between these two requests and got a different hash. This is expected as the page constantly updates itself."
   ]
  },
  {
   "cell_type": "code",
   "execution_count": 31,
   "metadata": {},
   "outputs": [
    {
     "name": "stdout",
     "output_type": "stream",
     "text": [
      "Content hash: 1bc289d39e2e1425782cf6229523d791\n"
     ]
    }
   ],
   "source": [
    "url = \"https://coinmarketcap.com/\"\n",
    "\n",
    "response = requests.get(url)\n",
    "content = response.text\n",
    "\n",
    "# Create a hash of the content\n",
    "content_hash = hashlib.md5(content.encode()).hexdigest()\n",
    "\n",
    "print(f\"Content hash: {content_hash}\")"
   ]
  },
  {
   "cell_type": "code",
   "execution_count": 30,
   "metadata": {},
   "outputs": [
    {
     "name": "stdout",
     "output_type": "stream",
     "text": [
      "Content hash: ec6c267b8d421fbdcddb78b27db44b73\n"
     ]
    }
   ],
   "source": [
    "url = \"https://time.is/\"\n",
    "response = requests.get(url)\n",
    "content = response.text\n",
    "\n",
    "# Create a hash of the content\n",
    "content_hash = hashlib.md5(content.encode()).hexdigest()\n",
    "\n",
    "print(f\"Content hash: {content_hash}\")"
   ]
  },
  {
   "cell_type": "markdown",
   "metadata": {},
   "source": [
    "The same experiment for the time.is website fails to update, despite the fact that the page is constantly updating."
   ]
  },
  {
   "cell_type": "code",
   "execution_count": 29,
   "metadata": {},
   "outputs": [
    {
     "name": "stdout",
     "output_type": "stream",
     "text": [
      "Content hash: ec6c267b8d421fbdcddb78b27db44b73\n"
     ]
    }
   ],
   "source": [
    "url = \"https://time.is/\"\n",
    "response = requests.get(url)\n",
    "content = response.text\n",
    "\n",
    "# Create a hash of the content\n",
    "content_hash = hashlib.md5(content.encode()).hexdigest()\n",
    "\n",
    "print(f\"Content hash: {content_hash}\")"
   ]
  },
  {
   "cell_type": "code",
   "execution_count": 36,
   "metadata": {},
   "outputs": [
    {
     "name": "stdout",
     "output_type": "stream",
     "text": [
      "Content hash: 7ea86a5b8c64eb61d45b5bfcea46807f\n",
      "Content_2 hash: 2a588be8a4a7bf8ca5a362af362fd99e\n"
     ]
    }
   ],
   "source": [
    "import time\n",
    "\n",
    "url = \"https://weather.com/en-GB/weather/hourbyhour/l/82ce477283f4943abb3e6b33ab0958d41e2ae224b2429d8b7decd8fb42e2493f\"\n",
    "response = requests.get(url)\n",
    "content = response.text\n",
    "content_hash = hashlib.md5(content.encode()).hexdigest()\n",
    "print(f\"Content hash: {content_hash}\")\n",
    "\n",
    "time.sleep(5)\n",
    "url_2 = \"https://weather.com/en-GB/weather/hourbyhour/l/82ce477283f4943abb3e6b33ab0958d41e2ae224b2429d8b7decd8fb42e2493f\"\n",
    "response_2 = requests.get(url)\n",
    "content_2 = response_2.text\n",
    "content_hash_2 = hashlib.md5(content_2.encode()).hexdigest()\n",
    "print(f\"Content_2 hash: {content_hash_2}\")\n"
   ]
  },
  {
   "cell_type": "markdown",
   "metadata": {},
   "source": [
    "Conclusion:\n",
    "- When the content of a page has changed, and required the page to be reloaded, the hash will change.\n",
    "- When the content of a page has changed, but does not require the page to be reloaded, the hash will not change.\n",
    "\n",
    "Checking whether the hash has changed is not could be used to determine whether the page has changed.\n"
   ]
  },
  {
   "cell_type": "markdown",
   "metadata": {},
   "source": [
    "### Altering the Scrapy Spider "
   ]
  },
  {
   "cell_type": "code",
   "execution_count": null,
   "metadata": {},
   "outputs": [],
   "source": [
    "import scrapy\n"
   ]
  }
 ],
 "metadata": {
  "kernelspec": {
   "display_name": ".venv",
   "language": "python",
   "name": "python3"
  },
  "language_info": {
   "codemirror_mode": {
    "name": "ipython",
    "version": 3
   },
   "file_extension": ".py",
   "mimetype": "text/x-python",
   "name": "python",
   "nbconvert_exporter": "python",
   "pygments_lexer": "ipython3",
   "version": "3.12.0"
  }
 },
 "nbformat": 4,
 "nbformat_minor": 2
}
