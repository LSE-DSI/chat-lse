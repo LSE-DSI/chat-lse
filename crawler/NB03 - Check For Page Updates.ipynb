{
 "cells": [
  {
   "cell_type": "code",
   "execution_count": 2,
   "metadata": {},
   "outputs": [
    {
     "name": "stdout",
     "output_type": "stream",
     "text": [
      "Content hash: 298d0b2ae1c2716360e436a375b58c09\n"
     ]
    }
   ],
   "source": [
    "import requests\n",
    "import hashlib\n",
    "\n",
    "url = \"https://coinmarketcap.com/\"\n",
    "\n",
    "response = requests.get(url)\n",
    "content = response.text\n",
    "\n",
    "# Create a hash of the content\n",
    "content_hash = hashlib.md5(content.encode()).hexdigest()\n",
    "\n",
    "print(f\"Content hash: {content_hash}\")\n",
    "\n"
   ]
  },
  {
   "cell_type": "markdown",
   "metadata": {},
   "source": [
    "I waited one minute in between these two requests and got a different hash. This is expected as the page constantly updates itself."
   ]
  },
  {
   "cell_type": "code",
   "execution_count": 31,
   "metadata": {},
   "outputs": [
    {
     "name": "stdout",
     "output_type": "stream",
     "text": [
      "Content hash: 1bc289d39e2e1425782cf6229523d791\n"
     ]
    }
   ],
   "source": [
    "url = \"https://coinmarketcap.com/\"\n",
    "\n",
    "response = requests.get(url)\n",
    "content = response.text\n",
    "\n",
    "# Create a hash of the content\n",
    "content_hash = hashlib.md5(content.encode()).hexdigest()\n",
    "\n",
    "print(f\"Content hash: {content_hash}\")"
   ]
  },
  {
   "cell_type": "code",
   "execution_count": 30,
   "metadata": {},
   "outputs": [
    {
     "name": "stdout",
     "output_type": "stream",
     "text": [
      "Content hash: ec6c267b8d421fbdcddb78b27db44b73\n"
     ]
    }
   ],
   "source": [
    "url = \"https://time.is/\"\n",
    "response = requests.get(url)\n",
    "content = response.text\n",
    "\n",
    "# Create a hash of the content\n",
    "content_hash = hashlib.md5(content.encode()).hexdigest()\n",
    "\n",
    "print(f\"Content hash: {content_hash}\")"
   ]
  },
  {
   "cell_type": "markdown",
   "metadata": {},
   "source": [
    "The same experiment for the time.is website fails to update, despite the fact that the page is constantly updating."
   ]
  },
  {
   "cell_type": "code",
   "execution_count": 29,
   "metadata": {},
   "outputs": [
    {
     "name": "stdout",
     "output_type": "stream",
     "text": [
      "Content hash: ec6c267b8d421fbdcddb78b27db44b73\n"
     ]
    }
   ],
   "source": [
    "url = \"https://time.is/\"\n",
    "response = requests.get(url)\n",
    "content = response.text\n",
    "\n",
    "# Create a hash of the content\n",
    "content_hash = hashlib.md5(content.encode()).hexdigest()\n",
    "\n",
    "print(f\"Content hash: {content_hash}\")"
   ]
  },
  {
   "cell_type": "code",
   "execution_count": 36,
   "metadata": {},
   "outputs": [
    {
     "name": "stdout",
     "output_type": "stream",
     "text": [
      "Content hash: 7ea86a5b8c64eb61d45b5bfcea46807f\n",
      "Content_2 hash: 2a588be8a4a7bf8ca5a362af362fd99e\n"
     ]
    }
   ],
   "source": [
    "import time\n",
    "\n",
    "url = \"https://weather.com/en-GB/weather/hourbyhour/l/82ce477283f4943abb3e6b33ab0958d41e2ae224b2429d8b7decd8fb42e2493f\"\n",
    "response = requests.get(url)\n",
    "content = response.text\n",
    "content_hash = hashlib.md5(content.encode()).hexdigest()\n",
    "print(f\"Content hash: {content_hash}\")\n",
    "\n",
    "time.sleep(5)\n",
    "url_2 = \"https://weather.com/en-GB/weather/hourbyhour/l/82ce477283f4943abb3e6b33ab0958d41e2ae224b2429d8b7decd8fb42e2493f\"\n",
    "response_2 = requests.get(url)\n",
    "content_2 = response_2.text\n",
    "content_hash_2 = hashlib.md5(content_2.encode()).hexdigest()\n",
    "print(f\"Content_2 hash: {content_hash_2}\")\n"
   ]
  },
  {
   "cell_type": "markdown",
   "metadata": {},
   "source": [
    "Conclusion:\n",
    "- When the content of a page has changed, and required the page to be reloaded, the hash will change.\n",
    "- When the content of a page has changed, but does not require the page to be reloaded, the hash will not change.\n",
    "\n",
    "Checking whether the hash has changed is not could be used to determine whether the page has changed.\n"
   ]
  },
  {
   "cell_type": "markdown",
   "metadata": {},
   "source": [
    "### Testing out the hash on current html of lse_crawler output"
   ]
  },
  {
   "cell_type": "code",
   "execution_count": 4,
   "metadata": {},
   "outputs": [
    {
     "ename": "FileNotFoundError",
     "evalue": "[Errno 2] No such file or directory: '/Users/jamie/Desktop/chatlse2024/chat-lse/data/boxes.jl'",
     "output_type": "error",
     "traceback": [
      "\u001b[0;31m---------------------------------------------------------------------------\u001b[0m",
      "\u001b[0;31mFileNotFoundError\u001b[0m                         Traceback (most recent call last)",
      "Cell \u001b[0;32mIn[4], line 6\u001b[0m\n\u001b[1;32m      4\u001b[0m \u001b[38;5;28;01mimport\u001b[39;00m \u001b[38;5;21;01mtime\u001b[39;00m\n\u001b[1;32m      5\u001b[0m \u001b[38;5;28;01mimport\u001b[39;00m \u001b[38;5;21;01mos\u001b[39;00m\n\u001b[0;32m----> 6\u001b[0m dictionary \u001b[38;5;241m=\u001b[39m \u001b[43mos\u001b[49m\u001b[38;5;241;43m.\u001b[39;49m\u001b[43mopen\u001b[49m\u001b[43m(\u001b[49m\u001b[38;5;124;43m'\u001b[39;49m\u001b[38;5;124;43m/Users/jamie/Desktop/chatlse2024/chat-lse/data/boxes.jl\u001b[39;49m\u001b[38;5;124;43m'\u001b[39;49m\u001b[43m,\u001b[49m\u001b[43m \u001b[49m\u001b[43mos\u001b[49m\u001b[38;5;241;43m.\u001b[39;49m\u001b[43mO_RDWR\u001b[49m\u001b[43m)\u001b[49m\n\u001b[1;32m      8\u001b[0m \u001b[38;5;66;03m#read the file\u001b[39;00m\n\u001b[1;32m      9\u001b[0m data \u001b[38;5;241m=\u001b[39m os\u001b[38;5;241m.\u001b[39mread(dictionary, \u001b[38;5;241m1000000\u001b[39m)\n",
      "\u001b[0;31mFileNotFoundError\u001b[0m: [Errno 2] No such file or directory: '/Users/jamie/Desktop/chatlse2024/chat-lse/data/boxes.jl'"
     ]
    }
   ],
   "source": [
    "#open the jl file \n",
    "import json\n",
    "import hashlib\n",
    "import time\n",
    "import os\n",
    "dictionary = os.open('/Users/jamie/Desktop/chatlse2024/chat-lse/crawler/data/boxes.jl', os.O_RDWR)\n",
    "\n",
    "#read the file\n",
    "data = os.read(dictionary, 1000000)\n",
    "\n",
    "#get the entry from the html key of the first dictionary entry\n",
    "entry = json.loads(data.decode().split(\"\\n\")[0])\n",
    "print(entry['html'], entry['current_hash'])"
   ]
  },
  {
   "cell_type": "code",
   "execution_count": 21,
   "metadata": {},
   "outputs": [
    {
     "name": "stdout",
     "output_type": "stream",
     "text": [
      "<div class=\"component__details\">\n",
      "            \t<h2 class=\"replaced__title\"><span class=\"global\">What's going on at FLIA?</span> Latest engagement, impact, and publications</h2>\n",
      "              \t\t\t            </div>\n",
      "22a74c40149671388c060fd68ba312c0\n"
     ]
    }
   ],
   "source": [
    "#copy the html and alter by a few characters, to see if the hash indeed changes\n",
    "html = entry['html']\n",
    "html = html.replace(\"component__title\", \"replaced__title\")\n",
    "print(html)\n",
    "\n",
    "#hash the html\n",
    "html_hash = hashlib.md5(html.encode()).hexdigest()\n",
    "print(html_hash)"
   ]
  },
  {
   "cell_type": "markdown",
   "metadata": {},
   "source": [
    "As we can see, by simple changing one word within the html, the hash changes. Therefore, we can reliably use the hash to determine whether the page has changed.\n"
   ]
  },
  {
   "cell_type": "markdown",
   "metadata": {},
   "source": [
    "### Testing the lse_crawler update\n",
    "\n",
    "First we must clear all history to the lse_crawler. Then we will run the lse_crawler"
   ]
  },
  {
   "cell_type": "code",
   "execution_count": 12,
   "metadata": {},
   "outputs": [],
   "source": [
    "import sqlite3\n",
    "\n",
    "\n",
    "\n",
    "conn = sqlite3.connect('/Users/jamie/Desktop/chatlse2024/chat-lse/crawler/data/dsi_crawler.db')\n",
    "cursor = conn.cursor()\n",
    "\n",
    "# Drop tables\n",
    "cursor.execute('DROP TABLE IF EXISTS Webpage')\n",
    "cursor.execute('DROP TABLE IF EXISTS Box')\n",
    "cursor.execute('DROP TABLE IF EXISTS CrawlerMetadata')\n",
    "cursor.execute('DROP TABLE IF EXISTS Links')\n",
    "\n",
    "conn.commit()\n",
    "conn.close()\n"
   ]
  },
  {
   "cell_type": "code",
   "execution_count": 14,
   "metadata": {},
   "outputs": [],
   "source": [
    "import os\n",
    "\n",
    "files_to_remove = ['data/pages.jl', 'data/boxes.jl']\n",
    "\n",
    "for file_path in files_to_remove:\n",
    "    if os.path.exists(file_path):\n",
    "        os.remove(file_path)\n",
    "\n"
   ]
  },
  {
   "attachments": {
    "image.png": {
     "image/png": "[encoded data removed]"
    }
   },
   "cell_type": "markdown",
   "metadata": {},
   "source": [
    "Rerunning the lse_crawler. \n",
    "- Within the settings.py file, change LOG_LEVEL to 'INFO' to see the logs of the pipeline.\n",
    "![image.png](attachment:image.png)\n",
    "- run the lse_crawler in terminal using:\n",
    "```\n",
    "scrapy crawl lse_crawler --loglevel=INFO\n",
    "```"
   ]
  }
 ],
 "metadata": {
  "kernelspec": {
   "display_name": ".venv",
   "language": "python",
   "name": "python3"
  },
  "language_info": {
   "codemirror_mode": {
    "name": "ipython",
    "version": 3
   },
   "file_extension": ".py",
   "mimetype": "text/x-python",
   "name": "python",
   "nbconvert_exporter": "python",
   "pygments_lexer": "ipython3",
   "version": "3.12.0"
  }
 },
 "nbformat": 4,
 "nbformat_minor": 2
}
