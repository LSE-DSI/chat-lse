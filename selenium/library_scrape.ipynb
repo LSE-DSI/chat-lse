{
 "cells": [
  {
   "cell_type": "code",
   "execution_count": 31,
   "metadata": {},
   "outputs": [],
   "source": [
    "import time\n",
    "import random\n",
    "import selenium\n",
    "\n",
    "from pprint import pprint\n",
    "\n",
    "from selenium import webdriver\n",
    "from selenium.webdriver.common.by import By\n",
    "from selenium.common.exceptions import NoSuchElementException, StaleElementReferenceException, TimeoutException\n",
    "from selenium.webdriver.support.ui import WebDriverWait\n",
    "from selenium.webdriver.support import expected_conditions as EC\n",
    "from selenium.webdriver.common.keys import Keys\n",
    "from selenium.webdriver.common.action_chains import ActionChains\n",
    "\n",
    "\n",
    "\n",
    "\n"
   ]
  },
  {
   "cell_type": "code",
   "execution_count": 29,
   "metadata": {},
   "outputs": [],
   "source": [
    "username = \"K.Dixon1@lse.ac.uk\"\n",
    "password = \"\""
   ]
  },
  {
   "cell_type": "code",
   "execution_count": 32,
   "metadata": {},
   "outputs": [
    {
     "name": "stdout",
     "output_type": "stream",
     "text": [
      "[]\n"
     ]
    }
   ],
   "source": [
    "driver = webdriver.Firefox()  # Optional argument, if not specified will search path.\n",
    "driver.get('https://www.lse.ac.uk/library');\n",
    "time.sleep(5) # Let the user actually see something!\n",
    "search_box = driver.find_elements(By.ID,'Loginto')\n",
    "search_box[0].click()\n",
    "time.sleep(10) # Let the user actually see something!\n",
    "login_box = driver.find_elements(By.XPATH,'/html/body/div[3]/div/div/h3[1]/a')\n",
    "login_box[0].click()\n",
    "time.sleep(10) # Let the user actually see something!\n",
    "username_box = driver.find_elements(By.CLASS_NAME,'placeholder')\n",
    "print(username_box)\n",
    "time.sleep(10) # Let the user actually see something!\n",
    "driver.quit()"
   ]
  }
 ],
 "metadata": {
  "kernelspec": {
   "display_name": ".venv",
   "language": "python",
   "name": "python3"
  },
  "language_info": {
   "codemirror_mode": {
    "name": "ipython",
    "version": 3
   },
   "file_extension": ".py",
   "mimetype": "text/x-python",
   "name": "python",
   "nbconvert_exporter": "python",
   "pygments_lexer": "ipython3",
   "version": "3.12.0"
  }
 },
 "nbformat": 4,
 "nbformat_minor": 2
}
