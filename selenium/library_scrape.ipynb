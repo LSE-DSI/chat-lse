{
 "cells": [
  {
   "cell_type": "code",
   "execution_count": 2,
   "metadata": {},
   "outputs": [],
   "source": [
    "import time\n",
    "import random\n",
    "import selenium\n",
    "\n",
    "from pprint import pprint\n",
    "\n",
    "from selenium import webdriver\n",
    "from selenium.webdriver.common.by import By\n",
    "from selenium.common.exceptions import NoSuchElementException, StaleElementReferenceException, TimeoutException\n",
    "from selenium.webdriver.support.ui import WebDriverWait\n",
    "from selenium.webdriver.support import expected_conditions as EC\n",
    "from selenium.webdriver.common.keys import Keys\n",
    "from selenium.webdriver.common.action_chains import ActionChains\n",
    "\n",
    "\n",
    "\n",
    "\n"
   ]
  },
  {
   "cell_type": "code",
   "execution_count": 3,
   "metadata": {},
   "outputs": [],
   "source": [
    "username = \"K.Dixon1@lse.ac.uk\"\n",
    "password = \"\""
   ]
  },
  {
   "cell_type": "code",
   "execution_count": 27,
   "metadata": {},
   "outputs": [],
   "source": [
    "def scrape_exam_papers(driver):\n",
    "    list = []\n",
    "    boxes = WebDriverWait(driver, 10).until(EC.visibility_of_all_elements_located((By.XPATH, \"/html/body/primo-explore/div/prm-explore-main/ui-view/prm-collection-discovery/prm-collection-gallery/md-content/div[2]/prm-gallery-collections-list/div/div[2]/prm-gallery-collection[1]/a\")))\n",
    "    print(boxes)\n",
    "    for box in boxes:\n",
    "        details = {}\n",
    "        box.click()\n",
    "        title = WebDriverWait(driver, 1000).until(EC.visibility_of_element_located((By.CSS_SELECTOR, \".full-view-mouse-pointer > span:nth-child(1) > prm-highlight:nth-child(2) > span:nth-child(1)\"))).text\n",
    "        details[\"title\"] = title\n",
    "\n",
    "        list.append(details)\n",
    "\n",
    "    return list\n",
    "\n",
    "\n"
   ]
  },
  {
   "cell_type": "code",
   "execution_count": 8,
   "metadata": {},
   "outputs": [],
   "source": [
    "def wait(element):\n",
    "    try:\n",
    "        WebDriverWait(driver, 10).until(EC.presence_of_element_located(element))\n",
    "    except TimeoutException:\n",
    "        print(\"Element not found\")"
   ]
  },
  {
   "cell_type": "code",
   "execution_count": 32,
   "metadata": {},
   "outputs": [
    {
     "name": "stdout",
     "output_type": "stream",
     "text": [
      "<selenium.webdriver.remote.webelement.WebElement (session=\"420dab6c-0358-4ab6-a102-1ad9f4105b95\", element=\"320049ef-7b89-4983-980c-9873233eca05\")>\n",
      "Accounting\n"
     ]
    }
   ],
   "source": [
    "from selenium.webdriver.support.ui import WebDriverWait\n",
    "from selenium.webdriver.support import expected_conditions as EC\n",
    "\n",
    "# ...\n",
    "\n",
    "driver = webdriver.Firefox()\n",
    "driver.get('https://www.lse.ac.uk/library')\n",
    "\n",
    "# Let the user actually see something!\n",
    "WebDriverWait(driver, 5).until(EC.visibility_of_element_located((By.ID, 'Loginto'))).click()\n",
    "\n",
    "# Let the user actually see something!\n",
    "WebDriverWait(driver, 10).until(EC.visibility_of_element_located((By.XPATH, '/html/body/div[3]/div/div/h3[1]/a'))).click()\n",
    "\n",
    "# Let the user actually see something!\n",
    "WebDriverWait(driver, 10).until(EC.visibility_of_element_located((By.NAME, 'loginfmt'))).send_keys(username)\n",
    "\n",
    "# Let the user actually see something!\n",
    "next_button = WebDriverWait(driver, 5).until(EC.visibility_of_element_located((By.ID, 'idSIButton9')))\n",
    "if next_button:\n",
    "    next_button.click()\n",
    "else:\n",
    "    print(\"No next button found\")\n",
    "\n",
    "# Let the user actually see something!\n",
    "WebDriverWait(driver, 5).until(EC.visibility_of_element_located((By.NAME, 'passwd'))).send_keys(password)\n",
    "\n",
    "# Let the user actually see something!\n",
    "next_button = WebDriverWait(driver, 5).until(EC.visibility_of_element_located((By.ID, 'idSIButton9')))\n",
    "next_button.click()\n",
    "\n",
    "# Wait until the screen changes, this can be a variable length of time though\n",
    "try:\n",
    "    # Wait until the element is visible\n",
    "    element = WebDriverWait(driver, 300).until(EC.visibility_of_element_located((By.ID, 'idBtn_Back')))\n",
    "    # Act on the element as soon as it becomes visible\n",
    "    element.click()\n",
    "except TimeoutException:\n",
    "    print(\"The element did not appear within the time limit\")\n",
    "\n",
    "# Let the user actually see something!\n",
    "WebDriverWait(driver, 5).until(EC.visibility_of_element_located((By.CSS_SELECTOR, 'div.grid-item:nth-child(1) > button:nth-child(1)'))).click()\n",
    "\n",
    "new_url = WebDriverWait(driver, 10).until(EC.visibility_of_all_elements_located((By.CSS_SELECTOR, '#mainMenu > div:nth-child(4) > a:nth-child(1)')))[0].get_attribute(\"href\")\n",
    "\n",
    "# Let the user actually see something!\n",
    "WebDriverWait(driver, 5).until(EC.visibility_of_element_located((By.CSS_SELECTOR, '#mainMenu > div:nth-child(4) > a:nth-child(1)'))).click()\n",
    "\n",
    "#the driver must now be on the new page\n",
    "\n",
    "WebDriverWait(driver, 10).until(EC.number_of_windows_to_be(2))\n",
    "new_window = driver.window_handles[-1]\n",
    "driver.switch_to.window(new_window)\n",
    "\n",
    "list = []\n",
    "boxes = WebDriverWait(driver, 10).until(EC.visibility_of_all_elements_located((By.XPATH, \"/html/body/primo-explore/div/prm-explore-main/ui-view/prm-collection-discovery/prm-collection-gallery/md-content/div[2]/prm-gallery-collections-list/div/div[2]/prm-gallery-collection[1]/a\")))\n",
    "box = boxes[0]\n",
    "print(box)\n",
    "title = WebDriverWait(driver, 480).until(EC.visibility_of_element_located((By.CSS_SELECTOR, \".margin-bottom-small > prm-gallery-collection:nth-child(1) > a:nth-child(1) > div:nth-child(1) > div:nth-child(1) > h3:nth-child(2) > span:nth-child(1)\")))[0].text\n",
    "print (title)\n",
    "\n",
    "\n",
    "\n",
    "\n",
    "\n",
    "\n",
    "\n",
    "\n"
   ]
  },
  {
   "cell_type": "code",
   "execution_count": 52,
   "metadata": {},
   "outputs": [
    {
     "name": "stdout",
     "output_type": "stream",
     "text": [
      "https://librarysearch.lse.ac.uk/discovery/collectionDiscovery?vid=44LSE_INST:44LSE_VU1&collectionId=81235317150002021&lang=en\n",
      "[]\n"
     ]
    }
   ],
   "source": [
    "driver.get(new_url)\n",
    "driver.\n",
    "list = []\n",
    "boxes = driver.find_elements(By.XPATH, \"/html/body/primo-explore/div/prm-explore-main/ui-view/prm-collection-discovery/prm-collection-gallery/md-content/div[2]/prm-gallery-collections-list/div/div[2]/prm-gallery-collection[1]/a\")\n",
    "print(boxes)"
   ]
  }
 ],
 "metadata": {
  "kernelspec": {
   "display_name": ".venv",
   "language": "python",
   "name": "python3"
  },
  "language_info": {
   "codemirror_mode": {
    "name": "ipython",
    "version": 3
   },
   "file_extension": ".py",
   "mimetype": "text/x-python",
   "name": "python",
   "nbconvert_exporter": "python",
   "pygments_lexer": "ipython3",
   "version": "3.12.0"
  }
 },
 "nbformat": 4,
 "nbformat_minor": 2
}
