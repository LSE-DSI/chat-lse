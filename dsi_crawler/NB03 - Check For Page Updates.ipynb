{
 "cells": [
  {
   "cell_type": "code",
   "execution_count": 2,
   "metadata": {},
   "outputs": [
    {
     "name": "stdout",
     "output_type": "stream",
     "text": [
      "Content hash: 298d0b2ae1c2716360e436a375b58c09\n"
     ]
    }
   ],
   "source": [
    "import requests\n",
    "import hashlib\n",
    "\n",
    "url = \"https://coinmarketcap.com/\"\n",
    "\n",
    "response = requests.get(url)\n",
    "content = response.text\n",
    "\n",
    "# Create a hash of the content\n",
    "content_hash = hashlib.md5(content.encode()).hexdigest()\n",
    "\n",
    "print(f\"Content hash: {content_hash}\")\n",
    "\n"
   ]
  },
  {
   "cell_type": "markdown",
   "metadata": {},
   "source": [
    "I waited one minute in between these two requests and got a different hash. This is expected as the page constantly updates itself."
   ]
  },
  {
   "cell_type": "code",
   "execution_count": 13,
   "metadata": {},
   "outputs": [
    {
     "name": "stdout",
     "output_type": "stream",
     "text": [
      "Content hash: f1e238f5e96ee2243f7f42418fd0b96f\n"
     ]
    }
   ],
   "source": [
    "url = \"https://coinmarketcap.com/\"\n",
    "\n",
    "response = requests.get(url)\n",
    "content = response.text\n",
    "\n",
    "# Create a hash of the content\n",
    "content_hash = hashlib.md5(content.encode()).hexdigest()\n",
    "\n",
    "print(f\"Content hash: {content_hash}\")"
   ]
  },
  {
   "cell_type": "code",
   "execution_count": 14,
   "metadata": {},
   "outputs": [
    {
     "name": "stdout",
     "output_type": "stream",
     "text": [
      "Content hash: ec6c267b8d421fbdcddb78b27db44b73\n"
     ]
    }
   ],
   "source": [
    "url = \"https://time.is/\"\n",
    "response = requests.get(url)\n",
    "content = response.text\n",
    "\n",
    "# Create a hash of the content\n",
    "content_hash = hashlib.md5(content.encode()).hexdigest()\n",
    "\n",
    "print(f\"Content hash: {content_hash}\")"
   ]
  },
  {
   "cell_type": "markdown",
   "metadata": {},
   "source": [
    "The same experiment for the time.is website fails to update, despite the fact that the page is constantly updating."
   ]
  },
  {
   "cell_type": "code",
   "execution_count": 29,
   "metadata": {},
   "outputs": [
    {
     "name": "stdout",
     "output_type": "stream",
     "text": [
      "Content hash: ec6c267b8d421fbdcddb78b27db44b73\n"
     ]
    }
   ],
   "source": [
    "url = \"https://time.is/\"\n",
    "response = requests.get(url)\n",
    "content = response.text\n",
    "\n",
    "# Create a hash of the content\n",
    "content_hash = hashlib.md5(content.encode()).hexdigest()\n",
    "\n",
    "print(f\"Content hash: {content_hash}\")"
   ]
  }
 ],
 "metadata": {
  "kernelspec": {
   "display_name": ".venv",
   "language": "python",
   "name": "python3"
  },
  "language_info": {
   "codemirror_mode": {
    "name": "ipython",
    "version": 3
   },
   "file_extension": ".py",
   "mimetype": "text/x-python",
   "name": "python",
   "nbconvert_exporter": "python",
   "pygments_lexer": "ipython3",
   "version": "3.12.0"
  }
 },
 "nbformat": 4,
 "nbformat_minor": 2
}
