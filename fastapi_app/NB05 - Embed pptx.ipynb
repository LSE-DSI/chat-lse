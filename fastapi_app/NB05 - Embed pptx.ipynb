{
 "cells": [
  {
   "cell_type": "markdown",
   "metadata": {},
   "source": [
    "## Setup"
   ]
  },
  {
   "cell_type": "code",
   "execution_count": 1,
   "metadata": {},
   "outputs": [
    {
     "name": "stderr",
     "output_type": "stream",
     "text": [
      "/Users/akshsabherwal/Desktop/chat-lse/.venv/lib/python3.11/site-packages/tqdm/auto.py:21: TqdmWarning: IProgress not found. Please update jupyter and ipywidgets. See https://ipywidgets.readthedocs.io/en/stable/user_install.html\n",
      "  from .autonotebook import tqdm as notebook_tqdm\n"
     ]
    }
   ],
   "source": [
    "import os\n",
    "import re\n",
    "import json\n",
    "import PyPDF2\n",
    "\n",
    "import pandas as pd\n",
    "\n",
    "from pptx import Presentation\n",
    "import regex as re\n",
    "from tqdm.notebook import tqdm, trange\n",
    "from llama_index.core.node_parser import SentenceSplitter\n",
    "from llama_index.embeddings.huggingface import HuggingFaceEmbedding\n",
    "import subprocess"
   ]
  },
  {
   "cell_type": "markdown",
   "metadata": {},
   "source": [
    "## Initialise variables"
   ]
  },
  {
   "cell_type": "code",
   "execution_count": 2,
   "metadata": {},
   "outputs": [],
   "source": [
    "DATA_FOLDER = '../data'\n",
    "SAMPLE_DATA_FOLDER = \"../data/sample_files\"\n",
    "\n",
    "# Assuming constants and imports are defined elsewhere\n",
    "DEFAULT_EMBED_MODEL = \"thenlper/gte-large\"\n",
    "\n",
    "DEFAULT_CHUNK_SIZE = 500  # This means each chunk has at most 500 tokens\n",
    "SENTENCE_CHUNK_OVERLAP = 50  # Example overlap\n",
    "CHUNKING_REGEX = r\"[^,\\.;]+[,\\.;]?\"  # Simple sentence splitter regex\n",
    "DEFAULT_PARAGRAPH_SEP = \"\\n\\n\"  # Paragraph separator"
   ]
  },
  {
   "cell_type": "markdown",
   "metadata": {},
   "source": [
    "## Utilities"
   ]
  },
  {
   "cell_type": "code",
   "execution_count": 3,
   "metadata": {},
   "outputs": [],
   "source": [
    "def generate_chunk_entry(doc_type, chunk_name, chunk_description, embedding_model):\n",
    "    try:\n",
    "        embedding = embedding_model.get_text_embedding(chunk_description)\n",
    "        return {\n",
    "            \"Type\": doc_type,\n",
    "            \"Name\": chunk_name,\n",
    "            \"Description\": chunk_description,\n",
    "            \"Embedding\": embedding  # Ensure the embedding is serializable\n",
    "        }\n",
    "    except Exception as e:\n",
    "        print(f\"Error computing embedding for chunk {chunk_name}: {e}\")\n",
    "        return None\n",
    "\n",
    "# Define the function to generate a JSON entry for each document\n",
    "def generate_json_entry(doc_id, doc_type, doc_name, description, link, splitter, embedding_model):\n",
    "    try:\n",
    "        # Split the description into chunks\n",
    "        sentence_chunks = splitter.split_text(description)\n",
    "        chunks = []\n",
    "        for i, chunk in enumerate(sentence_chunks, 1):\n",
    "            chunk_entry = generate_chunk_entry(doc_type, f\"{doc_name} - Part {i}\", chunk, embedding_model)\n",
    "            if chunk_entry:\n",
    "                chunks.append(chunk_entry)\n",
    "\n",
    "        return {\n",
    "            \"Id\": doc_id,\n",
    "            \"Name\": doc_name,\n",
    "            \"Description\": description,\n",
    "            \"Link\": link,\n",
    "            \"Chunks\": chunks\n",
    "        }\n",
    "    except Exception as e:\n",
    "        print(f\"Failed to compute embedding for {doc_name}: {e}\")\n",
    "        return None\n",
    "    \n",
    "def clean_text(text):\n",
    "    cleaned_text = re.sub(r'\\n', ' ', text)\n",
    "    cleaned_text = re.sub(r' {2,}', ' ', cleaned_text)\n",
    "    cleaned_text = re.sub(r' \\.', '.', cleaned_text)\n",
    "    cleaned_text = re.sub(r' ,', ',', cleaned_text)\n",
    "    cleaned_text = re.sub(r'\\t', ' ', cleaned_text)\n",
    "    cleaned_text = re.sub(r'\\\\u\\d{3}[a-zA-Z]', '', cleaned_text)\n",
    "    return cleaned_text\n"
   ]
  },
  {
   "cell_type": "markdown",
   "metadata": {},
   "source": [
    "### Check if we have any .pptx files from the crawler"
   ]
  },
  {
   "cell_type": "code",
   "execution_count": 4,
   "metadata": {},
   "outputs": [
    {
     "name": "stdout",
     "output_type": "stream",
     "text": [
      "['login?ReturnURL=https%3a%2f%2finfo.lse.ac.uk%2fstaff%2fdivisions%2fHuman-Resources%2fAssets%2fInternal%2fstaff%2fPolicy%2fHR-Divisional-Review-2019.pdf', 'login?ReturnURL=https%3a%2f%2finfo.lse.ac.uk%2fstaff%2fservices%2fPolicies-and-procedures%2fAssets%2fDocuments%2finternal%2fpaySupAcPol.pdf', 'login?ReturnURL=https%3a%2f%2finfo.lse.ac.uk%2fstaff%2fdivisions%2fHuman-Resources%2fAssets%2fInternal%2fstaff%2fAtoZ%2fSupport-Leave.pdf', 'Ex-Offenders-Policy-Statement-2019.pdf', 'HR-Adviser-HR-Administrator-Roles-and-Responsibilities.pdf', '18-0074-Staff-Lifecycle-Infographic-v9-latest.pdf', 'login?ReturnURL=https%3a%2f%2finfo.lse.ac.uk%2fstaff%2fdivisions%2fHuman-Resources%2fAssets%2fInternal%2fstaff%2fAtoZ%2fHR-Partnering-Team-Roles-and-Responsibilities.pdf', 'Non-Standard-Leave-Request-Form.docx', 'perRelPolAndPro.pdf', 'adoPol.pdf', 'MaternityandAdoption-Leave-Return-Form.docx', 'Authorising-Annual-Leave-Online-and-Delegation-Guidance.pdf', 'redPolPro.pdf', 'resAll.pdf', 'ProcessingNewStartersGuideJan18.docx', 'login?ReturnURL=https%3a%2f%2finfo.lse.ac.uk%2fstaff%2fdivisions%2fHuman-Resources%2fAssets%2fInternal%2fService-Enquiries-Human-Resources-Division.pdf', 'matPol.pdf', 'Guidance-Notes-for-Maternity-Leave-Notification.pdf', 'Blended-Working-Policy-FINALv.3.pdf', 'relPolNewSta.pdf', 'guiTraSta.pdf', 'Maternity-New-and-Expectant-Mother-Risk-Assessment-Template.docx', 'Process-Map-New-Starters-and-Contract-Variations.pdf', 'login?ReturnURL=https%3a%2f%2finfo.lse.ac.uk%2fstaff%2fservices%2fPolicies-and-procedures%2fAssets%2fDocuments%2finternal%2fpaySupPSSPol.pdf', 'proStaRecSelPol.pdf', 'MaternityFAQs.pdf', 'Reasonable-Adjustments-Pocket-Guide-final-web-version.pdf', 'pages.jl', 'capHeaProAcaSupSta.pdf', 'acaAnn.pdf', 'Family-Friendly-Leave-Checklist-May-19.docx', 'MyView-Guidance-for-Employees.pdf', 'Interview-Travel-Info-4-Dec-23.pdf', 'Neonatal-Leave-Notification-Form.docx', 'login?ReturnURL=https%3a%2f%2finfo.lse.ac.uk%2fstaff%2fdivisions%2fHuman-Resources%2fAssets%2fInternal%2fstaff%2fPolicy%2fRedundancy-Procedure.pdf', 'login?ReturnURL=https%3a%2f%2finfo.lse.ac.uk%2fstaff%2fdivisions%2fHuman-Resources%2fAssets%2fInternal%2fstaff%2fAtoZ%2fFTCs.pdf', 'polSupCar.pdf', 'MyView-Guidance-for-Managers.pdf', 'Annual-Leave-Online-FAQs.pdf', 'crawler.db', 'advPayPolTieVis.pdf', 'sinNomPol.pdf', 'staAppPol.pdf', 'appPolAcaSupSta.pdf', 'LSE-Individual-Risk-Assessment-All-Staff-at-LSE-March-2023-latest-approved.doc', 'overseawor.pdf', 'guiRevPro.pdf', 'Request-to-vary-or-cancel-SPL.docx', 'HR-SERVICE-LEVEL-EXPECTATIONS.pdf', 'login?ReturnURL=https%3a%2f%2finfo.lse.ac.uk%2fstaff%2fdivisions%2fHuman-Resources%2fAssets%2fInternal%2fstaff%2fRecruitment%2fGuidance+on+employing+LSE+Fellows+and+Teaching+Fellows+-+FINAL.pdf', 'parLeaPol.pdf', 'orgChaPol.pdf', 'RF9-Form-April-2020.doc', 'proSerRegPro.pdf', 'Approach-to-Staff-Mental-Health-and-Wellbeing-DRAFT.pdf', 'login?ReturnURL=https%3a%2f%2finfo.lse.ac.uk%2fstaff%2fdivisions%2fHuman-Resources%2fAssets%2fInternal%2fstaff%2fRecruitment%2finterviewAssessmentSheet.doc', 'Professional-Services-Staff-Overtime-Additional-Hours-and-TOIL-Policy.pdf', 'cenSchBP.pdf', 'partner-notice-of-entitlement-intention-to-take-SPL.doc', 'README.md', 'login?ReturnURL=https%3a%2f%2finfo.lse.ac.uk%2fstaff%2fdivisions%2fHuman-Resources%2fAssets%2fInternal%2fstaff%2fPolicy%2fMediation.pdf', 'Interview-expenses-regulationsclaims-form-Nov-2023-latest.pdf', 'Code-of-Practice-on-Free-Speech.pdf', 'Paternity-Leave-Notification-Form.docx', 'Special-Leave-Request-Form-final-2023.docx', 'Booking-Annual-Leave-Online-Guidance.pdf', 'DBS-Policy-Statement-2019.pdf', 'graTeaGui.pdf', 'corBusCorHou.pdf', 'Sabbatical-Leave-Report-Form.docx', 'Adoption-Leave-including-Surrogacy-Notification-Form.docx', 'recSelPolPro.pdf', 'annLeaPolPSS-B467.pdf', 'Family-Friendly-Return-to-Work-Guidance-for-Managers-May-19.pdf', 'immPol.pdf', 'emaEtiGui.pdf', 'antSlaSta.pdf', 'Formal-Flexible-Working-Form-revised-updated-Sept-2020.docx', 'schPolDis.pdf', 'namChaPol.pdf', 'secPosPol.pdf', 'boxes.jl', 'Sabbatical-Leave-Appication-Form.docx', 'Staff-Mental-Health-and-Wellbeing-Policy-v2-DRAFT.pdf', 'login?ReturnURL=https%3a%2f%2finfo.lse.ac.uk%2fstaff%2fdivisions%2fHuman-Resources%2fAssets%2fInternal%2fstaff%2fMyView-Phone-Tablet-VPN.pdf', 'harPol.pdf', 'harVioPol.pdf', 'patPol.pdf', 'griPolProAcaSupSta.pdf', 'Mother-notice-of-entitlement-intention-to-take-SPL31Jul15.doc', 'disPolProSerSta.pdf', 'login?ReturnURL=https%3a%2f%2finfo.lse.ac.uk%2fstaff%2fdivisions%2fHuman-Resources%2fAssets%2fInternal%2fstaff%2fAtoZ%2fMaternity-Leave-Notification-Form.docx', 'fleWorPolPro.pdf', 'speLeaPol.pdf', 'Guidance-Notes-for-Non-Standard-Leave-Requests.pdf', 'guiSpoPri.pdf', 'sabLeaPol.pdf', 'capPerPolPSSSta.pdf', 'alcDruPol.pdf', 'froWorPol.pdf', '18-0074-Staff-Lifecycle-Infographic-v9.pdf', 'shaParLea.pdf', 'Review-Form.docx', 'login?ReturnURL=https%3a%2f%2finfo.lse.ac.uk%2fstaff%2fdivisions%2fHuman-Resources%2fAssets%2fInternal%2fstaff%2fPolicy%2fReview-Periods-Guidance-for-PSS-2024-latest.pdf', 'Effective-Behaviours-Framework-FWOW-revised-July-2021.pdf', 'login?ReturnURL=https%3a%2f%2finfo.lse.ac.uk%2fstaff%2fdivisions%2fHuman-Resources%2fAssets%2fInternal%2fstaff%2fAtoZ%2fTypes-of-contract.pdf', 'sample_files', 'login?ReturnURL=https%3a%2f%2finfo.lse.ac.uk%2fstaff%2fdivisions%2fHuman-Resources%2fAssets%2fInternal%2fstaff%2fAtoZ%2fFTFs.pdf', 'retStaPol.pdf', 'Guidance-Notes-for-Adoption-Leave-including-Surrogacy-Notification.pdf', 'emeProPol.pdf', 'proSerGraPol.pdf']\n",
      "No file in the folder is a .pptx file\n"
     ]
    }
   ],
   "source": [
    "path_all_pdfs = [file for file in os.listdir(DATA_FOLDER)]\n",
    "print(path_all_pdfs)\n",
    "\n",
    "pptx_found = False\n",
    "\n",
    "for path in path_all_pdfs:\n",
    "    if path.endswith(\".pptx\"):\n",
    "        print(path)\n",
    "        pptx_found = True\n",
    "\n",
    "if not pptx_found:\n",
    "    print(\"No file in the folder is a .pptx file\")\n"
   ]
  },
  {
   "cell_type": "markdown",
   "metadata": {},
   "source": [
    "In that case, we will need to manually upload our own .pptx slides to provide support for embedding. Let's upload these in a separate folder in \"data\"."
   ]
  },
  {
   "cell_type": "markdown",
   "metadata": {},
   "source": [
    "## Process .pptx, .ppt, and .pdf first"
   ]
  },
  {
   "cell_type": "code",
   "execution_count": 8,
   "metadata": {},
   "outputs": [],
   "source": [
    "path_all_pptx = [file for file in os.listdir(SAMPLE_DATA_FOLDER) if file.endswith('.pptx')]\n",
    "path_all_ppt = [file for file in os.listdir(SAMPLE_DATA_FOLDER) if file.endswith('.ppt')]\n",
    "path_all_pdf = [file for file in os.listdir(DATA_FOLDER) if file.endswith('.pdf')]\n",
    "\n",
    "def read_pdf(file_path):\n",
    "    all_text = \"\"\n",
    "    try:\n",
    "        with open(file_path, \"rb\") as file:\n",
    "            pdf_reader = PyPDF2.PdfReader(file)\n",
    "            for page in pdf_reader.pages:\n",
    "                text = page.extract_text()\n",
    "                if text:\n",
    "                    all_text += text\n",
    "    except PyPDF2.errors.PdfReadError as e:\n",
    "        print(f\"Error reading {file_path}: {e}\")\n",
    "        return None\n",
    "    except Exception as e:\n",
    "        print(f\"An error occurred with {file_path}: {e}\")\n",
    "        return None\n",
    "    return all_text\n",
    "\n",
    "def convert_ppt_to_pptx(ppt_path, output_folder):\n",
    "    pptx_path = os.path.join(output_folder, os.path.splitext(os.path.basename(ppt_path))[0] + '.pptx')\n",
    "    try:\n",
    "        subprocess.run(['libreoffice', '--headless', '--convert-to', 'pptx', '--outdir', output_folder, ppt_path], check=True)\n",
    "    except subprocess.CalledProcessError as e:\n",
    "        print(f\"Error converting {ppt_path}: {e}\")\n",
    "        return None\n",
    "    return pptx_path\n",
    "\n",
    "def process_ppt_files(ppt_folder, output_folder):\n",
    "    path_all_ppts = [file for file in os.listdir(ppt_folder) if file.endswith('.ppt')]\n",
    "    pptx_data_list = []\n",
    "\n",
    "    for path in path_all_ppts:\n",
    "        ppt_path = os.path.join(ppt_folder, path)\n",
    "        pptx_path = convert_ppt_to_pptx(ppt_path, output_folder)\n",
    "        if pptx_path:\n",
    "            pptx_data_list.extend(process_pptx_files(pptx_path))\n",
    "    return pptx_data_list\n",
    "\n",
    "def process_pptx_files(pptx_path):\n",
    "    prs = Presentation(pptx_path)\n",
    "    pptx_texts = []\n",
    "    for slide_number, slide in enumerate(prs.slides):\n",
    "        for shape in slide.shapes:\n",
    "            if hasattr(shape, \"text\"):\n",
    "                pptx_texts.append(clean_text(shape.text))\n",
    "    all_text = ' '.join(pptx_texts)\n",
    "    file_name, file_extension = os.path.splitext(os.path.basename(pptx_path))\n",
    "    return [{\n",
    "        \"name\": file_name,\n",
    "        \"type\": file_extension.lstrip('.'),\n",
    "        \"text\": all_text\n",
    "    }]\n",
    "\n",
    "\n",
    "def process_pdfs(pdf_folder):\n",
    "    path_all_pdfs = [file for file in os.listdir(pdf_folder) if file.endswith('.pdf')]\n",
    "    docs = []\n",
    "    for file in path_all_pdfs:\n",
    "        file_path = os.path.join(pdf_folder, file)\n",
    "        text = read_pdf(file_path)\n",
    "        if text is not None:\n",
    "            file_name, file_extension = os.path.splitext(file)\n",
    "            doc_entry = {\n",
    "                \"name\": file_name,\n",
    "                \"type\": file_extension.lstrip('.'),\n",
    "                \"text\": text\n",
    "            }\n",
    "            docs.append(doc_entry)\n",
    "    return docs\n",
    "\n",
    "def clean_docs(docs):\n",
    "    cleaned_docs = []\n",
    "    for doc in docs:\n",
    "        cleaned_doc = {\n",
    "            \"name\": doc[\"name\"],\n",
    "            \"type\": doc[\"type\"],\n",
    "            \"text\": clean_text(doc[\"text\"])\n",
    "        }\n",
    "        cleaned_docs.append(cleaned_doc)\n",
    "    return cleaned_docs"
   ]
  },
  {
   "cell_type": "markdown",
   "metadata": {},
   "source": [
    "## Complete the embeddings"
   ]
  },
  {
   "cell_type": "code",
   "execution_count": 9,
   "metadata": {},
   "outputs": [
    {
     "ename": "FileNotFoundError",
     "evalue": "[Errno 2] No such file or directory: 'libreoffice'",
     "output_type": "error",
     "traceback": [
      "\u001b[0;31m---------------------------------------------------------------------------\u001b[0m",
      "\u001b[0;31mFileNotFoundError\u001b[0m                         Traceback (most recent call last)",
      "\u001b[1;32m/Users/akshsabherwal/Desktop/chat-lse/fastapi_app/NB05 - Embed pptx.ipynb Cell 13\u001b[0m line \u001b[0;36m1\n\u001b[0;32m----> <a href='vscode-notebook-cell:/Users/akshsabherwal/Desktop/chat-lse/fastapi_app/NB05%20-%20Embed%20pptx.ipynb#X11sZmlsZQ%3D%3D?line=0'>1</a>\u001b[0m ppt_docs \u001b[39m=\u001b[39m process_ppt_files(SAMPLE_DATA_FOLDER, SAMPLE_DATA_FOLDER)\n\u001b[1;32m      <a href='vscode-notebook-cell:/Users/akshsabherwal/Desktop/chat-lse/fastapi_app/NB05%20-%20Embed%20pptx.ipynb#X11sZmlsZQ%3D%3D?line=1'>2</a>\u001b[0m pptx_docs \u001b[39m=\u001b[39m process_pptx_files(SAMPLE_DATA_FOLDER)\n\u001b[1;32m      <a href='vscode-notebook-cell:/Users/akshsabherwal/Desktop/chat-lse/fastapi_app/NB05%20-%20Embed%20pptx.ipynb#X11sZmlsZQ%3D%3D?line=2'>3</a>\u001b[0m pdf_docs \u001b[39m=\u001b[39m process_pdfs(DATA_FOLDER)\n",
      "\u001b[1;32m/Users/akshsabherwal/Desktop/chat-lse/fastapi_app/NB05 - Embed pptx.ipynb Cell 13\u001b[0m line \u001b[0;36m3\n\u001b[1;32m     <a href='vscode-notebook-cell:/Users/akshsabherwal/Desktop/chat-lse/fastapi_app/NB05%20-%20Embed%20pptx.ipynb#X11sZmlsZQ%3D%3D?line=34'>35</a>\u001b[0m \u001b[39mfor\u001b[39;00m path \u001b[39min\u001b[39;00m path_all_ppts:\n\u001b[1;32m     <a href='vscode-notebook-cell:/Users/akshsabherwal/Desktop/chat-lse/fastapi_app/NB05%20-%20Embed%20pptx.ipynb#X11sZmlsZQ%3D%3D?line=35'>36</a>\u001b[0m     ppt_path \u001b[39m=\u001b[39m os\u001b[39m.\u001b[39mpath\u001b[39m.\u001b[39mjoin(ppt_folder, path)\n\u001b[0;32m---> <a href='vscode-notebook-cell:/Users/akshsabherwal/Desktop/chat-lse/fastapi_app/NB05%20-%20Embed%20pptx.ipynb#X11sZmlsZQ%3D%3D?line=36'>37</a>\u001b[0m     pptx_path \u001b[39m=\u001b[39m convert_ppt_to_pptx(ppt_path, output_folder)\n\u001b[1;32m     <a href='vscode-notebook-cell:/Users/akshsabherwal/Desktop/chat-lse/fastapi_app/NB05%20-%20Embed%20pptx.ipynb#X11sZmlsZQ%3D%3D?line=37'>38</a>\u001b[0m     \u001b[39mif\u001b[39;00m pptx_path:\n\u001b[1;32m     <a href='vscode-notebook-cell:/Users/akshsabherwal/Desktop/chat-lse/fastapi_app/NB05%20-%20Embed%20pptx.ipynb#X11sZmlsZQ%3D%3D?line=38'>39</a>\u001b[0m         pptx_data_list\u001b[39m.\u001b[39mextend(process_pptx_files(pptx_path))\n",
      "\u001b[1;32m/Users/akshsabherwal/Desktop/chat-lse/fastapi_app/NB05 - Embed pptx.ipynb Cell 13\u001b[0m line \u001b[0;36m2\n\u001b[1;32m     <a href='vscode-notebook-cell:/Users/akshsabherwal/Desktop/chat-lse/fastapi_app/NB05%20-%20Embed%20pptx.ipynb#X11sZmlsZQ%3D%3D?line=22'>23</a>\u001b[0m pptx_path \u001b[39m=\u001b[39m os\u001b[39m.\u001b[39mpath\u001b[39m.\u001b[39mjoin(output_folder, os\u001b[39m.\u001b[39mpath\u001b[39m.\u001b[39msplitext(os\u001b[39m.\u001b[39mpath\u001b[39m.\u001b[39mbasename(ppt_path))[\u001b[39m0\u001b[39m] \u001b[39m+\u001b[39m \u001b[39m'\u001b[39m\u001b[39m.pptx\u001b[39m\u001b[39m'\u001b[39m)\n\u001b[1;32m     <a href='vscode-notebook-cell:/Users/akshsabherwal/Desktop/chat-lse/fastapi_app/NB05%20-%20Embed%20pptx.ipynb#X11sZmlsZQ%3D%3D?line=23'>24</a>\u001b[0m \u001b[39mtry\u001b[39;00m:\n\u001b[0;32m---> <a href='vscode-notebook-cell:/Users/akshsabherwal/Desktop/chat-lse/fastapi_app/NB05%20-%20Embed%20pptx.ipynb#X11sZmlsZQ%3D%3D?line=24'>25</a>\u001b[0m     subprocess\u001b[39m.\u001b[39;49mrun([\u001b[39m'\u001b[39;49m\u001b[39mlibreoffice\u001b[39;49m\u001b[39m'\u001b[39;49m, \u001b[39m'\u001b[39;49m\u001b[39m--headless\u001b[39;49m\u001b[39m'\u001b[39;49m, \u001b[39m'\u001b[39;49m\u001b[39m--convert-to\u001b[39;49m\u001b[39m'\u001b[39;49m, \u001b[39m'\u001b[39;49m\u001b[39mpptx\u001b[39;49m\u001b[39m'\u001b[39;49m, \u001b[39m'\u001b[39;49m\u001b[39m--outdir\u001b[39;49m\u001b[39m'\u001b[39;49m, output_folder, ppt_path], check\u001b[39m=\u001b[39;49m\u001b[39mTrue\u001b[39;49;00m)\n\u001b[1;32m     <a href='vscode-notebook-cell:/Users/akshsabherwal/Desktop/chat-lse/fastapi_app/NB05%20-%20Embed%20pptx.ipynb#X11sZmlsZQ%3D%3D?line=25'>26</a>\u001b[0m \u001b[39mexcept\u001b[39;00m subprocess\u001b[39m.\u001b[39mCalledProcessError \u001b[39mas\u001b[39;00m e:\n\u001b[1;32m     <a href='vscode-notebook-cell:/Users/akshsabherwal/Desktop/chat-lse/fastapi_app/NB05%20-%20Embed%20pptx.ipynb#X11sZmlsZQ%3D%3D?line=26'>27</a>\u001b[0m     \u001b[39mprint\u001b[39m(\u001b[39mf\u001b[39m\u001b[39m\"\u001b[39m\u001b[39mError converting \u001b[39m\u001b[39m{\u001b[39;00mppt_path\u001b[39m}\u001b[39;00m\u001b[39m: \u001b[39m\u001b[39m{\u001b[39;00me\u001b[39m}\u001b[39;00m\u001b[39m\"\u001b[39m)\n",
      "File \u001b[0;32m/Library/Frameworks/Python.framework/Versions/3.11/lib/python3.11/subprocess.py:548\u001b[0m, in \u001b[0;36mrun\u001b[0;34m(input, capture_output, timeout, check, *popenargs, **kwargs)\u001b[0m\n\u001b[1;32m    545\u001b[0m     kwargs[\u001b[39m'\u001b[39m\u001b[39mstdout\u001b[39m\u001b[39m'\u001b[39m] \u001b[39m=\u001b[39m PIPE\n\u001b[1;32m    546\u001b[0m     kwargs[\u001b[39m'\u001b[39m\u001b[39mstderr\u001b[39m\u001b[39m'\u001b[39m] \u001b[39m=\u001b[39m PIPE\n\u001b[0;32m--> 548\u001b[0m \u001b[39mwith\u001b[39;00m Popen(\u001b[39m*\u001b[39;49mpopenargs, \u001b[39m*\u001b[39;49m\u001b[39m*\u001b[39;49mkwargs) \u001b[39mas\u001b[39;00m process:\n\u001b[1;32m    549\u001b[0m     \u001b[39mtry\u001b[39;00m:\n\u001b[1;32m    550\u001b[0m         stdout, stderr \u001b[39m=\u001b[39m process\u001b[39m.\u001b[39mcommunicate(\u001b[39minput\u001b[39m, timeout\u001b[39m=\u001b[39mtimeout)\n",
      "File \u001b[0;32m/Library/Frameworks/Python.framework/Versions/3.11/lib/python3.11/subprocess.py:1026\u001b[0m, in \u001b[0;36mPopen.__init__\u001b[0;34m(self, args, bufsize, executable, stdin, stdout, stderr, preexec_fn, close_fds, shell, cwd, env, universal_newlines, startupinfo, creationflags, restore_signals, start_new_session, pass_fds, user, group, extra_groups, encoding, errors, text, umask, pipesize, process_group)\u001b[0m\n\u001b[1;32m   1022\u001b[0m         \u001b[39mif\u001b[39;00m \u001b[39mself\u001b[39m\u001b[39m.\u001b[39mtext_mode:\n\u001b[1;32m   1023\u001b[0m             \u001b[39mself\u001b[39m\u001b[39m.\u001b[39mstderr \u001b[39m=\u001b[39m io\u001b[39m.\u001b[39mTextIOWrapper(\u001b[39mself\u001b[39m\u001b[39m.\u001b[39mstderr,\n\u001b[1;32m   1024\u001b[0m                     encoding\u001b[39m=\u001b[39mencoding, errors\u001b[39m=\u001b[39merrors)\n\u001b[0;32m-> 1026\u001b[0m     \u001b[39mself\u001b[39;49m\u001b[39m.\u001b[39;49m_execute_child(args, executable, preexec_fn, close_fds,\n\u001b[1;32m   1027\u001b[0m                         pass_fds, cwd, env,\n\u001b[1;32m   1028\u001b[0m                         startupinfo, creationflags, shell,\n\u001b[1;32m   1029\u001b[0m                         p2cread, p2cwrite,\n\u001b[1;32m   1030\u001b[0m                         c2pread, c2pwrite,\n\u001b[1;32m   1031\u001b[0m                         errread, errwrite,\n\u001b[1;32m   1032\u001b[0m                         restore_signals,\n\u001b[1;32m   1033\u001b[0m                         gid, gids, uid, umask,\n\u001b[1;32m   1034\u001b[0m                         start_new_session, process_group)\n\u001b[1;32m   1035\u001b[0m \u001b[39mexcept\u001b[39;00m:\n\u001b[1;32m   1036\u001b[0m     \u001b[39m# Cleanup if the child failed starting.\u001b[39;00m\n\u001b[1;32m   1037\u001b[0m     \u001b[39mfor\u001b[39;00m f \u001b[39min\u001b[39;00m \u001b[39mfilter\u001b[39m(\u001b[39mNone\u001b[39;00m, (\u001b[39mself\u001b[39m\u001b[39m.\u001b[39mstdin, \u001b[39mself\u001b[39m\u001b[39m.\u001b[39mstdout, \u001b[39mself\u001b[39m\u001b[39m.\u001b[39mstderr)):\n",
      "File \u001b[0;32m/Library/Frameworks/Python.framework/Versions/3.11/lib/python3.11/subprocess.py:1950\u001b[0m, in \u001b[0;36mPopen._execute_child\u001b[0;34m(self, args, executable, preexec_fn, close_fds, pass_fds, cwd, env, startupinfo, creationflags, shell, p2cread, p2cwrite, c2pread, c2pwrite, errread, errwrite, restore_signals, gid, gids, uid, umask, start_new_session, process_group)\u001b[0m\n\u001b[1;32m   1948\u001b[0m     \u001b[39mif\u001b[39;00m errno_num \u001b[39m!=\u001b[39m \u001b[39m0\u001b[39m:\n\u001b[1;32m   1949\u001b[0m         err_msg \u001b[39m=\u001b[39m os\u001b[39m.\u001b[39mstrerror(errno_num)\n\u001b[0;32m-> 1950\u001b[0m     \u001b[39mraise\u001b[39;00m child_exception_type(errno_num, err_msg, err_filename)\n\u001b[1;32m   1951\u001b[0m \u001b[39mraise\u001b[39;00m child_exception_type(err_msg)\n",
      "\u001b[0;31mFileNotFoundError\u001b[0m: [Errno 2] No such file or directory: 'libreoffice'"
     ]
    }
   ],
   "source": [
    "ppt_docs = process_ppt_files(SAMPLE_DATA_FOLDER, SAMPLE_DATA_FOLDER)\n",
    "pptx_docs = process_pptx_files(SAMPLE_DATA_FOLDER)\n",
    "pdf_docs = process_pdfs(DATA_FOLDER)\n",
    "\n",
    "# Clean the documents\n",
    "cleaned_ppt_docs = clean_docs(ppt_docs)\n",
    "cleaned_pptx_docs = clean_docs(pptx_docs)\n",
    "cleaned_pdf_docs = clean_docs(pdf_docs)\n",
    "\n",
    "# Combine all documents\n",
    "all_docs = cleaned_ppt_docs + cleaned_pptx_docs + cleaned_pdf_docs\n",
    "\n",
    "# Generate JSON data\n",
    "documents = [(counter + 1, doc[\"type\"], doc[\"name\"], doc[\"text\"]) for counter, doc in enumerate(all_docs)]\n",
    "\n",
    "json_data = []\n",
    "\n",
    "splitter = SentenceSplitter(chunk_size=512, chunk_overlap=256)\n",
    "embed_model = HuggingFaceEmbedding(model_name=DEFAULT_EMBED_MODEL) \n",
    "\n",
    "for doc_id, doc_type, doc_name, description in documents:\n",
    "    json_entry = generate_json_entry(doc_id, doc_type, doc_name, description, \"some_link\", splitter, embed_model)\n",
    "    if json_entry:\n",
    "        json_data.append(json_entry)\n",
    "    else:\n",
    "        print(f\"Failed to create JSON entry for {doc_name}\")\n",
    "\n",
    "# Save the JSON data to a file\n",
    "json_file_path = \"seed_lse_data.json\"\n",
    "try:\n",
    "    with open(json_file_path, \"w\") as f:\n",
    "        json.dump(json_data, f, indent=4)\n",
    "    print(f\"JSON file created successfully at {json_file_path}\")\n",
    "except Exception as e:\n",
    "    print(f\"Failed to write JSON file: {e}\")"
   ]
  },
  {
   "cell_type": "code",
   "execution_count": null,
   "metadata": {},
   "outputs": [],
   "source": [
    "import os\n",
    "import comtypes.client\n",
    "\n",
    "def convert_ppt_to_pptx(ppt_path):\n",
    "    # Ensure the input file exists\n",
    "    if not os.path.exists(ppt_path):\n",
    "        raise FileNotFoundError(f\"The file {ppt_path} does not exist\")\n",
    "\n",
    "    # Define the output file path\n",
    "    pptx_path = os.path.splitext(ppt_path)[0] + '.pptx'\n",
    "\n",
    "    # Initialize PowerPoint application\n",
    "    powerpoint = comtypes.client.CreateObject(\"Powerpoint.Application\")\n",
    "    powerpoint.Visible = 1\n",
    "\n",
    "    # Open the presentation\n",
    "    presentation = powerpoint.Presentations.Open(ppt_path)\n",
    "\n",
    "    # Save the presentation as pptx\n",
    "    presentation.SaveAs(pptx_path, FileFormat=24)  # 24 is the file format for pptx\n",
    "\n",
    "    # Close the presentation and quit PowerPoint\n",
    "    presentation.Close()\n",
    "    powerpoint.Quit()\n",
    "\n",
    "    print(f\"Converted {ppt_path} to {pptx_path}\")\n",
    "    return pptx_path\n",
    "\n",
    "# Example usage\n",
    "ppt_file = \"example.ppt\"\n",
    "convert_ppt_to_pptx(ppt_file)\n"
   ]
  }
 ],
 "metadata": {
  "kernelspec": {
   "display_name": ".venv",
   "language": "python",
   "name": "python3"
  },
  "language_info": {
   "codemirror_mode": {
    "name": "ipython",
    "version": 3
   },
   "file_extension": ".py",
   "mimetype": "text/x-python",
   "name": "python",
   "nbconvert_exporter": "python",
   "pygments_lexer": "ipython3",
   "version": "3.11.4"
  }
 },
 "nbformat": 4,
 "nbformat_minor": 2
}
