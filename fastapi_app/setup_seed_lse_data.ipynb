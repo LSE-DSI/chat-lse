{
 "cells": [
  {
   "cell_type": "markdown",
   "metadata": {},
   "source": [
    "# Successful attempt using \"description\" of the documents"
   ]
  },
  {
   "cell_type": "code",
   "execution_count": 15,
   "metadata": {},
   "outputs": [
    {
     "name": "stderr",
     "output_type": "stream",
     "text": [
      "Exception ignored in: <coroutine object main at 0x11aa5a110>\n",
      "Traceback (most recent call last):\n",
      "  File \"<string>\", line 1, in <lambda>\n",
      "KeyError: '__import__'\n",
      "Exception ignored in: <coroutine object main at 0x11aa5a110>\n",
      "Traceback (most recent call last):\n",
      "  File \"<string>\", line 1, in <lambda>\n",
      "KeyError: '__import__'\n"
     ]
    },
    {
     "name": "stdout",
     "output_type": "stream",
     "text": [
      "JSON file created successfully at seed_lse_data.json\n"
     ]
    }
   ],
   "source": [
    "import asyncio\n",
    "import json\n",
    "from embeddings import compute_text_embedding  # Ensure correct imports\n",
    "from openai_clients import create_openai_embed_client  # Import OpenAI client creation function\n",
    "\n",
    "async def generate_json_entry(doc_id, type, doc_name, description, link, embed_client, embed_model):\n",
    "    try:\n",
    "        embedding = await compute_text_embedding(\n",
    "            q=description,\n",
    "            openai_client=embed_client,\n",
    "            embed_model=embed_model\n",
    "        )\n",
    "        return {\n",
    "            \"Id\": doc_id,\n",
    "            \"Type\": type,\n",
    "            \"Name\": doc_name,\n",
    "            \"Description\": description,\n",
    "            \"Link\": link,\n",
    "            \"Embedding\": embedding\n",
    "        }\n",
    "    except Exception as e:\n",
    "        print(f\"Failed to compute embedding for {doc_name}: {e}\")\n",
    "        return None\n",
    "\n",
    "async def main():\n",
    "    embed_client, embed_model, _ = await create_openai_embed_client()\n",
    "    if embed_client is None or embed_model is None:\n",
    "        print(\"Failed to initialize OpenAI client.\")\n",
    "        return\n",
    "\n",
    "    # Manually defined descriptions and links for each document\n",
    "    documents = [\n",
    "        (1, \"PDF\",\"Exam Procedures for Candidates\",  \"Outlines essential procedures for LSE's in-person exams for the 2023/24 academic year. It details candidate responsibilities, exam conduct rules, permitted materials, use of electronic devices, and protocols for e-Exams, including equipment requirements and emergency procedures, to ensure fairness and integrity during the examination process.\", \"https://info.lse.ac.uk/current-students/services/assets/documents/Exam-Procedures-for-Candidates.pdf\"),\n",
    "        (2, \"PDF\",\"Spring Exam Timetable 2024\",  \"Detailed exam schedule for LSE's Spring 2024 session, including dates, times, and courses.\", \"https://info.lse.ac.uk/current-students/services/assets/documents/Spring-Exam-Timetable-2024-Final.pdf\"),\n",
    "        (3, \"PDF\",\"Studnet Guidance on Deferrals\", \"Outlines policies and procedures for students considering deferring exams or coursework. It covers eligibility, application steps, academic impacts, and available support resources to help students navigate the deferral process effectively.\", \"https://info.lse.ac.uk/current-students/services/assets/documents/Student-Guidance-Deferral.pdf\"),\n",
    "        (4, \"PDF\",\"Academic Appeals Regulation\",  \"This LSE document details the academic appeals procedures for undergraduate and master's students, specifying eligibility, the process, and grounds for appeals, which include procedural errors and new exceptional circumstances\", \"https://info.lse.ac.uk/current-students/services/assets/documents/Appeals-Regulations.pdf\"),\n",
    "        (5, \"PDF\",\"Three Year Classification Scheme For BA/BSc Degrees\", \"Outlines the classification scheme for BA and BSc degrees starting from the 2018/19 academic year. It details the criteria for awarding marks, eligibility for degree awards, and the specifics of calculating final degree classifications, including considerations for exceptional circumstances and penalties for unredeemed failures.\", \"https://info.lse.ac.uk/staff/divisions/academic-registrars-division/Teaching-Quality-Assurance-and-Review-Office/Assets/Documents/Calendar/BA-BSc-Three-Year-scheme-for-students-from-2018.19.pdf\"),\n",
    "        (6, \"PDF\",\"In-Course Financial Support Application Guide\",  \"Guide for students applying for in-course financial support. It includes instructions for completing the application form, eligibility criteria, required documentation, and assessment procedures. The guide covers various aspects of financial aid, including allowances for dependents, disability-related costs, and emergency financial needs, aiming to assist students experiencing financial difficulties during their studies.\", \"https://info.lse.ac.uk/current-students/financial-support/assets/documents/In-Course-Financial-Support.pdf\"),\n",
    "        (7, \"PDF\",\"Interruption of Studies Policy\",  \"Outlines policy for students needing a temporary break from their studies due to personal, professional, or health reasons. It details the conditions under which interruptions are granted, the process for applying, and the implications on academic standing, visa status, and financial commitments. It also covers the return to studies, emphasizing the need for careful planning and communication with academic mentors and departmental staff.\", \"https://info.lse.ac.uk/Staff/Divisions/Academic-Registrars-Division/Teaching-Quality-Assurance-and-Review-Office/Assets/Documents/Calendar/InterruptionPolicy.pdf\"),\n",
    "        (8, \"PDF\",\"Student Complaints Procedure\", \"Outlines the procedures for handling student complaints, providing a structured approach for lodging and resolving issues related to academic or administrative services. It details the stages of complaint resolution, including early resolution, formal complaint submission, and review processes, ensuring a fair and systematic approach to addressing student grievances.\",\"https://info.lse.ac.uk/staff/services/Policies-and-procedures/Assets/Documents/comPro.pdf\")\n",
    "    ]\n",
    "\n",
    "    json_data = []\n",
    "    for doc_id, doc_type, doc_name, description, link in documents:  # corrected unpacking\n",
    "        json_entry = await generate_json_entry(doc_id, doc_type, doc_name, description, link, embed_client, embed_model)  # added missing doc_type\n",
    "        if json_entry:\n",
    "            json_data.append(json_entry)\n",
    "        else:\n",
    "            print(f\"Failed to create JSON entry for {doc_name}\")\n",
    "\n",
    "    json_file_path = \"seed_lse_data.json\"\n",
    "    try:\n",
    "        with open(json_file_path, \"w\") as f:\n",
    "            json.dump(json_data, f, indent=4)\n",
    "        print(f\"JSON file created successfully at {json_file_path}\")\n",
    "    except Exception as e:\n",
    "        print(f\"Failed to write JSON file: {e}\")\n",
    " \n",
    "if __name__ == \"__main__\":\n",
    "    loop = asyncio.get_event_loop()\n",
    "    if loop.is_running():\n",
    "        # Reuse the existing running loop\n",
    "        loop.create_task(main())\n",
    "    else:\n",
    "        # No running event loop, safe to use asyncio.run\n",
    "        asyncio.run(main())"
   ]
  },
  {
   "cell_type": "markdown",
   "metadata": {},
   "source": [
    "# Unsuccessful attempt using \"content\" of the documents"
   ]
  },
  {
   "cell_type": "code",
   "execution_count": 8,
   "metadata": {},
   "outputs": [
    {
     "ename": "RuntimeError",
     "evalue": "asyncio.run() cannot be called from a running event loop",
     "output_type": "error",
     "traceback": [
      "\u001b[0;31m---------------------------------------------------------------------------\u001b[0m",
      "\u001b[0;31mRuntimeError\u001b[0m                              Traceback (most recent call last)",
      "\u001b[1;32m/Users/akshsabherwal/Desktop/chat-lse/fastapi_app/setup_seed_lse_data.ipynb Cell 4\u001b[0m line \u001b[0;36m7\n\u001b[1;32m     <a href='vscode-notebook-cell:/Users/akshsabherwal/Desktop/chat-lse/fastapi_app/setup_seed_lse_data.ipynb#W3sZmlsZQ%3D%3D?line=70'>71</a>\u001b[0m         \u001b[39mprint\u001b[39m(\u001b[39mf\u001b[39m\u001b[39m\"\u001b[39m\u001b[39mFailed to write JSON file: \u001b[39m\u001b[39m{\u001b[39;00me\u001b[39m}\u001b[39;00m\u001b[39m\"\u001b[39m)\n\u001b[1;32m     <a href='vscode-notebook-cell:/Users/akshsabherwal/Desktop/chat-lse/fastapi_app/setup_seed_lse_data.ipynb#W3sZmlsZQ%3D%3D?line=72'>73</a>\u001b[0m \u001b[39mif\u001b[39;00m \u001b[39m__name__\u001b[39m \u001b[39m==\u001b[39m \u001b[39m\"\u001b[39m\u001b[39m__main__\u001b[39m\u001b[39m\"\u001b[39m:\n\u001b[0;32m---> <a href='vscode-notebook-cell:/Users/akshsabherwal/Desktop/chat-lse/fastapi_app/setup_seed_lse_data.ipynb#W3sZmlsZQ%3D%3D?line=73'>74</a>\u001b[0m     asyncio\u001b[39m.\u001b[39;49mrun(main())\n",
      "File \u001b[0;32m/Library/Frameworks/Python.framework/Versions/3.11/lib/python3.11/asyncio/runners.py:186\u001b[0m, in \u001b[0;36mrun\u001b[0;34m(main, debug)\u001b[0m\n\u001b[1;32m    161\u001b[0m \u001b[39m\u001b[39m\u001b[39m\"\"\"Execute the coroutine and return the result.\u001b[39;00m\n\u001b[1;32m    162\u001b[0m \n\u001b[1;32m    163\u001b[0m \u001b[39mThis function runs the passed coroutine, taking care of\u001b[39;00m\n\u001b[0;32m   (...)\u001b[0m\n\u001b[1;32m    182\u001b[0m \u001b[39m    asyncio.run(main())\u001b[39;00m\n\u001b[1;32m    183\u001b[0m \u001b[39m\"\"\"\u001b[39;00m\n\u001b[1;32m    184\u001b[0m \u001b[39mif\u001b[39;00m events\u001b[39m.\u001b[39m_get_running_loop() \u001b[39mis\u001b[39;00m \u001b[39mnot\u001b[39;00m \u001b[39mNone\u001b[39;00m:\n\u001b[1;32m    185\u001b[0m     \u001b[39m# fail fast with short traceback\u001b[39;00m\n\u001b[0;32m--> 186\u001b[0m     \u001b[39mraise\u001b[39;00m \u001b[39mRuntimeError\u001b[39;00m(\n\u001b[1;32m    187\u001b[0m         \u001b[39m\"\u001b[39m\u001b[39masyncio.run() cannot be called from a running event loop\u001b[39m\u001b[39m\"\u001b[39m)\n\u001b[1;32m    189\u001b[0m \u001b[39mwith\u001b[39;00m Runner(debug\u001b[39m=\u001b[39mdebug) \u001b[39mas\u001b[39;00m runner:\n\u001b[1;32m    190\u001b[0m     \u001b[39mreturn\u001b[39;00m runner\u001b[39m.\u001b[39mrun(main)\n",
      "\u001b[0;31mRuntimeError\u001b[0m: asyncio.run() cannot be called from a running event loop"
     ]
    }
   ],
   "source": [
    "import asyncio\n",
    "import json\n",
    "from PyPDF2 import PdfReader\n",
    "import os\n",
    "\n",
    "from embeddings import compute_text_embedding  \n",
    "from openai_clients import create_openai_embed_client  \n",
    "\n",
    "async def extract_text_from_pdf(path):\n",
    "    try:\n",
    "        reader = PdfReader(path)\n",
    "        text = []\n",
    "        for page in reader.pages:\n",
    "            page_text = page.extract_text()\n",
    "            if page_text:\n",
    "                text.append(page_text)\n",
    "            else:\n",
    "                print(f\"No text extracted from page in {path}\")\n",
    "        return \"\\n\".join(text)\n",
    "    except Exception as e:\n",
    "        print(f\"Failed to extract text from {path}: {e}\")\n",
    "        return None\n",
    "\n",
    "async def generate_json_entry(doc_id, doc_name, doc_path, embed_client, embed_model):\n",
    "    text_content = await extract_text_from_pdf(doc_path)\n",
    "    if text_content:\n",
    "        try:\n",
    "            embedding = await compute_text_embedding(\n",
    "                q=text_content,\n",
    "                openai_client=embed_client,\n",
    "                embed_model=embed_model\n",
    "            )\n",
    "            return {\n",
    "                \"Id\": str(doc_id),\n",
    "                \"Name\": doc_name,\n",
    "                \"Content\": text_content,\n",
    "                \"Embedding\": embedding\n",
    "            }\n",
    "        except Exception as e:\n",
    "            print(f\"Failed to compute embedding for {doc_name}: {e}\")\n",
    "            return None\n",
    "    else:\n",
    "        print(f\"No content to embed for {doc_name}\")\n",
    "        return None\n",
    "\n",
    "async def main():\n",
    "    embed_client, embed_model, _ = await create_openai_embed_client()\n",
    "    if embed_client is None or embed_model is None:\n",
    "        print(\"Failed to initialize OpenAI client.\")\n",
    "        return\n",
    "\n",
    "    documents = [\n",
    "        (\"1\", \"Exam Procedures for Candidates\", \"/Users/akshsabherwal/Desktop/Exam-Procedures-for-Candidates.pdf\"),\n",
    "        (\"2\", \"Spring Exam Timetable 2024\", \"/Users/akshsabherwal/Desktop/Spring-Exam-Timetable-2024-Final.pdf\")\n",
    "    ]\n",
    "\n",
    "    json_data = []\n",
    "    for doc_id, doc_name, doc_path in documents:\n",
    "        json_entry = await generate_json_entry(doc_id, doc_name, doc_path, embed_client, embed_model)\n",
    "        if json_entry:\n",
    "            json_data.append(json_entry)\n",
    "        else:\n",
    "            print(f\"Failed to create JSON entry for {doc_name}\")\n",
    "\n",
    "    json_file_path = \"seed_lse_data.json\"\n",
    "    try:\n",
    "        with open(json_file_path, \"w\") as f:\n",
    "            json.dump(json_data, f, indent=4)\n",
    "        print(f\"JSON file created successfully at {json_file_path}\")\n",
    "    except Exception as e:\n",
    "        print(f\"Failed to write JSON file: {e}\")\n",
    "\n",
    "if __name__ == \"__main__\":\n",
    "    asyncio.run(main())\n"
   ]
  },
  {
   "cell_type": "code",
   "execution_count": null,
   "metadata": {},
   "outputs": [],
   "source": []
  }
 ],
 "metadata": {
  "kernelspec": {
   "display_name": ".venv",
   "language": "python",
   "name": "python3"
  },
  "language_info": {
   "codemirror_mode": {
    "name": "ipython",
    "version": 3
   },
   "file_extension": ".py",
   "mimetype": "text/x-python",
   "name": "python",
   "nbconvert_exporter": "python",
   "pygments_lexer": "ipython3",
   "version": "3.11.4"
  }
 },
 "nbformat": 4,
 "nbformat_minor": 2
}
