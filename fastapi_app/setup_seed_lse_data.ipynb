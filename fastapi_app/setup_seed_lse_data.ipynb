{
 "cells": [
  {
   "cell_type": "markdown",
   "metadata": {},
   "source": [
    "# Attempt 1 (using \"content\"): Error due to length of docs exceeding model allowed length"
   ]
  },
  {
   "cell_type": "code",
   "execution_count": 7,
   "metadata": {},
   "outputs": [
    {
     "name": "stdout",
     "output_type": "stream",
     "text": [
      "Failed to compute embedding for Exam Procedures for Candidates: Error code: 400 - {'error': {'message': \"This model's maximum context length is 8192 tokens, however you requested 11846 tokens (11846 in your prompt; 0 for the completion). Please reduce your prompt; or completion length.\", 'type': 'invalid_request_error', 'param': None, 'code': None}}\n",
      "Failed to create JSON entry for Exam Procedures for Candidates\n",
      "Failed to compute embedding for Spring Exam Timetable 2024: Error code: 400 - {'error': {'message': \"This model's maximum context length is 8192 tokens, however you requested 16847 tokens (16847 in your prompt; 0 for the completion). Please reduce your prompt; or completion length.\", 'type': 'invalid_request_error', 'param': None, 'code': None}}\n",
      "Failed to create JSON entry for Spring Exam Timetable 2024\n",
      "JSON file created successfully at seed_lse_data.json\n"
     ]
    }
   ],
   "source": [
    "import asyncio\n",
    "import json\n",
    "from PyPDF2 import PdfReader\n",
    "import os\n",
    "\n",
    "from embeddings import compute_text_embedding  \n",
    "from openai_clients import create_openai_embed_client  \n",
    "\n",
    "async def extract_text_from_pdf(path):\n",
    "    try:\n",
    "        reader = PdfReader(path)\n",
    "        text = []\n",
    "        for page in reader.pages:\n",
    "            page_text = page.extract_text()\n",
    "            if page_text:\n",
    "                text.append(page_text)\n",
    "            else:\n",
    "                print(f\"No text extracted from page in {path}\")\n",
    "        return \"\\n\".join(text)\n",
    "    except Exception as e:\n",
    "        print(f\"Failed to extract text from {path}: {e}\")\n",
    "        return None\n",
    "\n",
    "async def generate_json_entry(doc_id, doc_name, doc_path, embed_client, embed_model):\n",
    "    text_content = await extract_text_from_pdf(doc_path)\n",
    "    if text_content:\n",
    "        try:\n",
    "            embedding = await compute_text_embedding(\n",
    "                q=text_content,\n",
    "                openai_client=embed_client,\n",
    "                embed_model=embed_model\n",
    "            )\n",
    "            return {\n",
    "                \"Id\": str(doc_id),\n",
    "                \"Name\": doc_name,\n",
    "                \"Content\": text_content,\n",
    "                \"Embedding\": embedding\n",
    "            }\n",
    "        except Exception as e:\n",
    "            print(f\"Failed to compute embedding for {doc_name}: {e}\")\n",
    "            return None\n",
    "    else:\n",
    "        print(f\"No content to embed for {doc_name}\")\n",
    "        return None\n",
    "\n",
    "async def main():\n",
    "    embed_client, embed_model, _ = await create_openai_embed_client()\n",
    "    if embed_client is None or embed_model is None:\n",
    "        print(\"Failed to initialize OpenAI client.\")\n",
    "        return\n",
    "\n",
    "    documents = [\n",
    "        (\"1\", \"Exam Procedures for Candidates\", \"/Users/akshsabherwal/Desktop/Exam-Procedures-for-Candidates.pdf\"),\n",
    "        (\"2\", \"Spring Exam Timetable 2024\", \"/Users/akshsabherwal/Desktop/Spring-Exam-Timetable-2024-Final.pdf\")\n",
    "    ]\n",
    "\n",
    "    json_data = []\n",
    "    for doc_id, doc_name, doc_path in documents:\n",
    "        json_entry = await generate_json_entry(doc_id, doc_name, doc_path, embed_client, embed_model)\n",
    "        if json_entry:\n",
    "            json_data.append(json_entry)\n",
    "        else:\n",
    "            print(f\"Failed to create JSON entry for {doc_name}\")\n",
    "\n",
    "    json_file_path = \"seed_lse_data.json\"\n",
    "    try:\n",
    "        with open(json_file_path, \"w\") as f:\n",
    "            json.dump(json_data, f, indent=4)\n",
    "        print(f\"JSON file created successfully at {json_file_path}\")\n",
    "    except Exception as e:\n",
    "        print(f\"Failed to write JSON file: {e}\")\n",
    "\n",
    "if __name__ == \"__main__\":\n",
    "    asyncio.run(main())\n"
   ]
  },
  {
   "cell_type": "markdown",
   "metadata": {},
   "source": [
    "# Attempt 2 (using \"description\")"
   ]
  },
  {
   "cell_type": "code",
   "execution_count": 10,
   "metadata": {},
   "outputs": [
    {
     "name": "stdout",
     "output_type": "stream",
     "text": [
      "JSON file created successfully at seed_lse_data.json\n"
     ]
    }
   ],
   "source": [
    "import asyncio\n",
    "import json\n",
    "from embeddings import compute_text_embedding  # Ensure correct imports\n",
    "from openai_clients import create_openai_embed_client  # Import OpenAI client creation function\n",
    "\n",
    "async def generate_json_entry(doc_id, doc_name, description, link, embed_client, embed_model):\n",
    "    try:\n",
    "        embedding = await compute_text_embedding(\n",
    "            q=description,\n",
    "            openai_client=embed_client,\n",
    "            embed_model=embed_model\n",
    "        )\n",
    "        return {\n",
    "            \"Id\": str(doc_id),\n",
    "            \"Name\": doc_name,\n",
    "            \"Description\": description,\n",
    "            \"Link\": link,\n",
    "            \"Embedding\": embedding\n",
    "        }\n",
    "    except Exception as e:\n",
    "        print(f\"Failed to compute embedding for {doc_name}: {e}\")\n",
    "        return None\n",
    "\n",
    "async def main():\n",
    "    embed_client, embed_model, _ = await create_openai_embed_client()\n",
    "    if embed_client is None or embed_model is None:\n",
    "        print(\"Failed to initialize OpenAI client.\")\n",
    "        return\n",
    "\n",
    "    # Manually defined descriptions and links for each document\n",
    "    documents = [\n",
    "        (\"1\", \"Exam Procedures for Candidates\", \"Outlines essential procedures for LSE's in-person exams for the 2023/24 academic year. It details candidate responsibilities, exam conduct rules, permitted materials, use of electronic devices, and protocols for e-Exams, including equipment requirements and emergency procedures, to ensure fairness and integrity during the examination process.\", \"https://info.lse.ac.uk/current-students/services/assets/documents/Exam-Procedures-for-Candidates.pdf\"),\n",
    "        (\"2\", \"Spring Exam Timetable 2024\", \"Detailed exam schedule for LSE's Spring 2024 session, including dates, times, and courses.\", \"https://info.lse.ac.uk/current-students/services/assets/documents/Spring-Exam-Timetable-2024-Final.pdf\")\n",
    "    ]\n",
    "\n",
    "    json_data = []\n",
    "    for doc_id, doc_name, description, link in documents:\n",
    "        json_entry = await generate_json_entry(doc_id, doc_name, description, link, embed_client, embed_model)\n",
    "        if json_entry:\n",
    "            json_data.append(json_entry)\n",
    "        else:\n",
    "            print(f\"Failed to create JSON entry for {doc_name}\")\n",
    "\n",
    "    json_file_path = \"seed_lse_data.json\"\n",
    "    try:\n",
    "        with open(json_file_path, \"w\") as f:\n",
    "            json.dump(json_data, f, indent=4)\n",
    "        print(f\"JSON file created successfully at {json_file_path}\")\n",
    "    except Exception as e:\n",
    "        print(f\"Failed to write JSON file: {e}\")\n",
    "\n",
    "if __name__ == \"__main__\":\n",
    "    asyncio.run(main())\n"
   ]
  }
 ],
 "metadata": {
  "kernelspec": {
   "display_name": ".venv",
   "language": "python",
   "name": "python3"
  },
  "language_info": {
   "codemirror_mode": {
    "name": "ipython",
    "version": 3
   },
   "file_extension": ".py",
   "mimetype": "text/x-python",
   "name": "python",
   "nbconvert_exporter": "python",
   "pygments_lexer": "ipython3",
   "version": "3.11.4"
  }
 },
 "nbformat": 4,
 "nbformat_minor": 2
}
