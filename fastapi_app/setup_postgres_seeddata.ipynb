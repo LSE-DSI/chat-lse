{
 "cells": [
  {
   "cell_type": "code",
   "execution_count": 1,
   "metadata": {},
   "outputs": [
    {
     "name": "stderr",
     "output_type": "stream",
     "text": [
      "usage: ipykernel_launcher.py [-h] [--host HOST] [--username USERNAME]\n",
      "                             [--password PASSWORD] [--database DATABASE]\n",
      "                             [--sslmode SSLMODE]\n",
      "ipykernel_launcher.py: error: unrecognized arguments: --f=/Users/akshsabherwal/Library/Jupyter/runtime/kernel-v2-68291Wvz9RVWuPTE.json\n"
     ]
    },
    {
     "ename": "SystemExit",
     "evalue": "2",
     "output_type": "error",
     "traceback": [
      "An exception has occurred, use %tb to see the full traceback.\n",
      "\u001b[0;31mSystemExit\u001b[0m\u001b[0;31m:\u001b[0m 2\n"
     ]
    },
    {
     "name": "stderr",
     "output_type": "stream",
     "text": [
      "/Users/akshsabherwal/Desktop/chat-lse/.venv/lib/python3.11/site-packages/IPython/core/interactiveshell.py:3585: UserWarning: To exit: use 'exit', 'quit', or Ctrl-D.\n",
      "  warn(\"To exit: use 'exit', 'quit', or Ctrl-D.\", stacklevel=1)\n"
     ]
    }
   ],
   "source": [
    "import argparse\n",
    "import asyncio\n",
    "import json\n",
    "import logging\n",
    "import os\n",
    "import sys\n",
    "\n",
    "import nest_asyncio\n",
    "import sqlalchemy.exc\n",
    "from dotenv import load_dotenv\n",
    "from sqlalchemy import select, text, delete, func\n",
    "from sqlalchemy.ext.asyncio import async_sessionmaker\n",
    "\n",
    "from fastapi_app.postgres_engine import create_postgres_engine_from_args, create_postgres_engine_from_env\n",
    "from fastapi_app.postgres_models import Item\n",
    "\n",
    "logger = logging.getLogger(\"ragapp\")\n",
    "\n",
    "nest_asyncio.apply()\n",
    "\n",
    "async def seed_data(engine):\n",
    "    async with engine.begin() as conn:\n",
    "        # Check if the Item table exists\n",
    "        result = await conn.execute(\n",
    "            text(\n",
    "                \"SELECT EXISTS (SELECT 1 FROM information_schema.tables WHERE table_schema = 'public' AND table_name = 'items')\"\n",
    "            )\n",
    "        )\n",
    "        if not result.scalar():\n",
    "            logger.error(\"Items table does not exist. Please run the database setup script first.\")\n",
    "            return\n",
    "\n",
    "        # Delete all entries in the Item table\n",
    "        await conn.execute(delete(Item))\n",
    "        await conn.commit()\n",
    "\n",
    "        # Check if the delete operation was successful\n",
    "        count_result = await conn.execute(select([func.count()]).select_from(Item))\n",
    "        count = count_result.scalar()\n",
    "        if count == 0:\n",
    "            logger.info(\"Successfully deleted all entries in the Items table.\")\n",
    "        else:\n",
    "            logger.warning(f\"Failed to delete all entries, {count} entries remain.\")\n",
    "\n",
    "    async with async_sessionmaker(engine, expire_on_commit=False)() as session:\n",
    "        current_dir = os.path.dirname(os.path.realpath(__file__))\n",
    "        with open(os.path.join(current_dir, \"seed_lse_data.json\")) as f:\n",
    "            catalog_items = json.load(f)\n",
    "            for catalog_item in catalog_items:\n",
    "                item_id = int(catalog_item[\"Id\"])\n",
    "                item = await session.execute(select(Item).filter(Item.id == item_id))\n",
    "                if item.scalars().first():\n",
    "                    continue\n",
    "                item = Item(\n",
    "                    id=item_id,\n",
    "                    name=catalog_item[\"Name\"],\n",
    "                    description=catalog_item[\"Description\"],\n",
    "                    embedding=catalog_item[\"Embedding\"],\n",
    "                    link=catalog_item[\"Link\"]\n",
    "                )\n",
    "                session.add(item)\n",
    "\n",
    "            try:\n",
    "                await session.commit()\n",
    "            except sqlalchemy.exc.IntegrityError:\n",
    "                pass\n",
    "\n",
    "    logger.info(\"Items table seeded successfully.\")\n",
    "\n",
    "def parse_args():\n",
    "    parser = argparse.ArgumentParser(description=\"Create database schema\")\n",
    "    parser.add_argument(\"--host\", type=str, help=\"Postgres host\", default=os.getenv(\"POSTGRES_HOST\"))\n",
    "    parser.add_argument(\"--username\", type=str, help=\"Postgres username\", default=os.getenv(\"POSTGRES_USER\"))\n",
    "    parser.add_argument(\"--password\", type=str, help=\"Postgres password\", default=os.getenv(\"POSTGRES_PASSWORD\"))\n",
    "    parser.add_argument(\"--database\", type=str, help=\"Postgres database\", default=os.getenv(\"POSTGRES_DB\"))\n",
    "    parser.add_argument(\"--sslmode\", type=str, help=\"Postgres sslmode\", default=os.getenv(\"POSTGRES_SSLMODE\"))\n",
    "\n",
    "    if len(sys.argv) == 1:  # If no arguments, assume running in an environment like Jupyter\n",
    "        return parser.parse_args(args=[])\n",
    "    else:\n",
    "        return parser.parse_args()\n",
    "\n",
    "async def main():\n",
    "    args = parse_args()\n",
    "    if args.host:\n",
    "        engine = await create_postgres_engine_from_args(args)\n",
    "    else:\n",
    "        engine = await create_postgres_engine_from_env()\n",
    "\n",
    "    await seed_data(engine)\n",
    "    await engine.dispose()\n",
    "\n",
    "if __name__ == \"__main__\":\n",
    "    logging.basicConfig(level=logging.WARNING)\n",
    "    logger.setLevel(logging.INFO)\n",
    "    load_dotenv(override=True)\n",
    "    asyncio.run(main())\n"
   ]
  }
 ],
 "metadata": {
  "kernelspec": {
   "display_name": ".venv",
   "language": "python",
   "name": "python3"
  },
  "language_info": {
   "codemirror_mode": {
    "name": "ipython",
    "version": 3
   },
   "file_extension": ".py",
   "mimetype": "text/x-python",
   "name": "python",
   "nbconvert_exporter": "python",
   "pygments_lexer": "ipython3",
   "version": "3.11.4"
  }
 },
 "nbformat": 4,
 "nbformat_minor": 2
}
