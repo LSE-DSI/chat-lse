{
 "cells": [
  {
   "cell_type": "code",
   "execution_count": 6,
   "metadata": {},
   "outputs": [
    {
     "name": "stderr",
     "output_type": "stream",
     "text": [
      "usage: ipykernel_launcher.py [-h] [--host HOST] [--username USERNAME]\n",
      "                             [--password PASSWORD] [--database DATABASE]\n",
      "                             [--sslmode SSLMODE]\n",
      "ipykernel_launcher.py: error: unrecognized arguments: --f=/Users/akshsabherwal/Library/Jupyter/runtime/kernel-v2-6829R5ikCo8gbwVh.json\n"
     ]
    },
    {
     "ename": "SystemExit",
     "evalue": "2",
     "output_type": "error",
     "traceback": [
      "An exception has occurred, use %tb to see the full traceback.\n",
      "\u001b[0;31mSystemExit\u001b[0m\u001b[0;31m:\u001b[0m 2\n"
     ]
    }
   ],
   "source": [
    "import asyncio\n",
    "import argparse\n",
    "import nest_asyncio\n",
    "from dotenv import load_dotenv\n",
    "from sqlalchemy.ext.asyncio import create_async_engine, AsyncSession\n",
    "from sqlalchemy.orm import sessionmaker\n",
    "from sqlalchemy import delete\n",
    "\n",
    "# Import your model definitions here\n",
    "from fastapi_app.postgres_models import Item # Adjust based on your models\n",
    "\n",
    "\n",
    "async def delete_all_entries(engine):\n",
    "    \"\"\"Deletes all entries from a specific table asynchronously.\"\"\"\n",
    "    async_session = sessionmaker(engine, class_=AsyncSession, expire_on_commit=False)\n",
    "    \n",
    "    async with async_session() as session:\n",
    "        async with session.begin():\n",
    "            # This deletes all entries from 'YourTableModel'\n",
    "            await session.execute(delete(YourTableModel))\n",
    "        # The transaction is committed automatically here due to the context manager\n",
    "        print(\"All entries have been deleted successfully.\")\n",
    "        \n",
    "async def main():\n",
    "    parser = argparse.ArgumentParser(description=\"Delete all entries from the database\")\n",
    "    parser.add_argument(\"--host\", type=str, help=\"Postgres host\")\n",
    "    parser.add_argument(\"--username\", type=str, help=\"Postgres username\")\n",
    "    parser.add_argument(\"--password\", type=str, help=\"Postgres password\")\n",
    "    parser.add_argument(\"--database\", type=str, help=\"Postgres database\")\n",
    "    parser.add_argument(\"--sslmode\", type=str, help=\"Postgres sslmode\")\n",
    "\n",
    "    args = parser.parse_args()\n",
    "\n",
    "    if args.host:\n",
    "        DATABASE_URL = f\"postgresql+asyncpg://{args.username}:{args.password}@{args.host}/{args.database}?sslmode={args.sslmode}\"\n",
    "        engine = create_async_engine(DATABASE_URL, echo=True)\n",
    "    else:\n",
    "        engine = await create_postgres_engine_from_env()\n",
    "\n",
    "    await delete_all_entries(engine)\n",
    "    await engine.dispose()\n",
    "\n",
    "if __name__ == \"__main__\":\n",
    "    load_dotenv()\n",
    "    asyncio.run(main())\n"
   ]
  },
  {
   "cell_type": "code",
   "execution_count": null,
   "metadata": {},
   "outputs": [],
   "source": []
  }
 ],
 "metadata": {
  "kernelspec": {
   "display_name": ".venv",
   "language": "python",
   "name": "python3"
  },
  "language_info": {
   "codemirror_mode": {
    "name": "ipython",
    "version": 3
   },
   "file_extension": ".py",
   "mimetype": "text/x-python",
   "name": "python",
   "nbconvert_exporter": "python",
   "pygments_lexer": "ipython3",
   "version": "3.11.4"
  }
 },
 "nbformat": 4,
 "nbformat_minor": 2
}
