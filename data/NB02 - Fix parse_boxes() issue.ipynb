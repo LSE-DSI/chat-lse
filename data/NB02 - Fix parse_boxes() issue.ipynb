{
 "cells": [
  {
   "cell_type": "markdown",
   "metadata": {},
   "source": [
    "__OBJECTIVE__: Investigate why the parse_boxes() function is not working when scrapy crawler is run #25"
   ]
  },
  {
   "cell_type": "markdown",
   "metadata": {
    "vscode": {
     "languageId": "plaintext"
    }
   },
   "source": [
    "### __Investigate the Box table in the database dsi_crawler.db__"
   ]
  },
  {
   "cell_type": "code",
   "execution_count": 38,
   "metadata": {},
   "outputs": [],
   "source": [
    "import sqlite3\n",
    "import pandas as pd"
   ]
  },
  {
   "cell_type": "code",
   "execution_count": 39,
   "metadata": {},
   "outputs": [],
   "source": [
    "#Connect to Database\n",
    "conn = sqlite3.connect('dsi_crawler.db')\n",
    "cursor = conn.cursor()"
   ]
  },
  {
   "cell_type": "code",
   "execution_count": 40,
   "metadata": {},
   "outputs": [
    {
     "name": "stdout",
     "output_type": "stream",
     "text": [
      "[('Webpage',), ('sqlite_sequence',), ('Box',), ('CrawlerMetadata',), ('Links',)]\n"
     ]
    }
   ],
   "source": [
    "#check connection to database by listing all tables\n",
    "cursor.execute(\"SELECT name FROM sqlite_master WHERE type='table';\")\n",
    "print(cursor.fetchall())"
   ]
  },
  {
   "cell_type": "code",
   "execution_count": 41,
   "metadata": {},
   "outputs": [
    {
     "name": "stdout",
     "output_type": "stream",
     "text": [
      "The table Box has 56 rows.\n"
     ]
    }
   ],
   "source": [
    "#check if Box table is empty\n",
    "table = \"Box\"\n",
    "cursor.execute(f\"SELECT COUNT(*) FROM {table}\")\n",
    "count = cursor.fetchone()[0]\n",
    "\n",
    "if count == 0:\n",
    "    print(f\"The table {table} is empty.\")\n",
    "else:\n",
    "    print(f\"The table {table} has {count} rows.\")"
   ]
  },
  {
   "cell_type": "markdown",
   "metadata": {},
   "source": [
    "From the above output, it seems that the Boxes table in the database does exist. Let's investigate the table to see if the data is being stored correctly, if at all. "
   ]
  },
  {
   "cell_type": "code",
   "execution_count": 42,
   "metadata": {},
   "outputs": [
    {
     "name": "stdout",
     "output_type": "stream",
     "text": [
      "   cid            name     type  notnull dflt_value  pk\n",
      "0    0              id  INTEGER        0       None   1\n",
      "1    1      origin_url     TEXT        0       None   0\n",
      "2    2             url     TEXT        0       None   0\n",
      "3    3           title     TEXT        0       None   0\n",
      "4    4            html     TEXT        0       None   0\n",
      "5    5       image_src     TEXT        0       None   0\n",
      "6    6  image_alt_text     TEXT        0       None   0\n",
      "7    7    date_scraped     TEXT        0       None   0\n"
     ]
    }
   ],
   "source": [
    "#Display schema of Box table\n",
    "query = f\"PRAGMA table_info({table});\"\n",
    "schema = pd.read_sql_query(query, conn)\n",
    "print(schema)\n"
   ]
  },
  {
   "cell_type": "code",
   "execution_count": 43,
   "metadata": {},
   "outputs": [
    {
     "name": "stdout",
     "output_type": "stream",
     "text": [
      "[('/DSI/Assets/images/DSI-Brand/KB-intro-video-still-747x630.jpg',), ('/Cities/Assets/Images/research-page-images/DSI-Deconstructing-health-and-wellbeing/DSI-photo-a-747x420.jpg',), ('/DSI/Assets/images/Partnerships/The-Turing-University-Network-747x420.jpg',), ('/DSI/Assets/images/SchoolImages/-DSC6185-747x420.jpg',), ('/school-of-public-policy/assets/Images/Study-pages/16-9-ratio-Research-Students-5000.jpg',), ('/DSI/Assets/images/Web-Content/LSE-Executive-Education-Cropped-747x420.jpg',), ('/DSI/Assets/images/Events/2024/0615-ai-guardians-lse-festival/24.06.15-ai-guardians-747x420.jpg',), ('/DSI/Assets/images/Events/2024/0615-Lego-workshop/family-day-23-0683-747x420-purple-pic23-1.jpg',), ('/DSI/Assets/images/Events/2024/0626-Salman-Khan/24.06.26-Brave-new-world-747x420-head.png',), ('/DSI/Assets/images/Blogs/24.04.10-Studying-AI-747x420-Cropped-747x420.jpg',), ('/DSI/Assets/images/Blogs/24.03.22-AI-and-health-Cropped-747x420.jpg',), ('/DSI/Assets/images/Blogs/24.05.15-Blog-AI-and-the-NHS-747x420.jpg',), ('/DSI/Assets/images/Events/2024/Madhumita-Murgia-747x420.jpg',), ('/DSI/Assets/images/Events/2024/0307-Turing-AI-Literacy/747x420AILiteracy.jpg',), ('/DSI/Assets/images/DSI-Brand/KB-intro-video-still-747x630.jpg',), ('/Cities/Assets/Images/research-page-images/DSI-Deconstructing-health-and-wellbeing/DSI-photo-a-747x420.jpg',), ('/DSI/Assets/images/Partnerships/The-Turing-University-Network-747x420.jpg',), ('/DSI/Assets/images/SchoolImages/-DSC6185-747x420.jpg',), ('/school-of-public-policy/assets/Images/Study-pages/16-9-ratio-Research-Students-5000.jpg',), ('/DSI/Assets/images/Web-Content/LSE-Executive-Education-Cropped-747x420.jpg',), ('/DSI/Assets/images/Events/2024/0615-ai-guardians-lse-festival/24.06.15-ai-guardians-747x420.jpg',), ('/DSI/Assets/images/Events/2024/0615-Lego-workshop/family-day-23-0683-747x420-purple-pic23-1.jpg',), ('/DSI/Assets/images/Events/2024/0626-Salman-Khan/24.06.26-Brave-new-world-747x420-head.png',), ('/DSI/Assets/images/Blogs/24.04.10-Studying-AI-747x420-Cropped-747x420.jpg',), ('/DSI/Assets/images/Blogs/24.03.22-AI-and-health-Cropped-747x420.jpg',), ('/DSI/Assets/images/Blogs/24.05.15-Blog-AI-and-the-NHS-747x420.jpg',), ('/DSI/Assets/images/Events/2024/Madhumita-Murgia-747x420.jpg',), ('/DSI/Assets/images/Events/2024/0307-Turing-AI-Literacy/747x420AILiteracy.jpg',), ('/DSI/Assets/images/DSI-Brand/KB-intro-video-still-747x630.jpg',), ('/Cities/Assets/Images/research-page-images/DSI-Deconstructing-health-and-wellbeing/DSI-photo-a-747x420.jpg',), ('/DSI/Assets/images/Partnerships/The-Turing-University-Network-747x420.jpg',), ('/DSI/Assets/images/SchoolImages/-DSC6185-747x420.jpg',), ('/school-of-public-policy/assets/Images/Study-pages/16-9-ratio-Research-Students-5000.jpg',), ('/DSI/Assets/images/Web-Content/LSE-Executive-Education-Cropped-747x420.jpg',), ('/DSI/Assets/images/Events/2024/0615-ai-guardians-lse-festival/24.06.15-ai-guardians-747x420.jpg',), ('/DSI/Assets/images/Events/2024/0615-Lego-workshop/family-day-23-0683-747x420-purple-pic23-1.jpg',), ('/DSI/Assets/images/Events/2024/0626-Salman-Khan/24.06.26-Brave-new-world-747x420-head.png',), ('/DSI/Assets/images/Blogs/24.04.10-Studying-AI-747x420-Cropped-747x420.jpg',), ('/DSI/Assets/images/Blogs/24.03.22-AI-and-health-Cropped-747x420.jpg',), ('/DSI/Assets/images/Blogs/24.05.15-Blog-AI-and-the-NHS-747x420.jpg',), ('/DSI/Assets/images/Events/2024/Madhumita-Murgia-747x420.jpg',), ('/DSI/Assets/images/Events/2024/0307-Turing-AI-Literacy/747x420AILiteracy.jpg',), ('/DSI/Assets/images/DSI-Brand/KB-intro-video-still-747x630.jpg',), ('/Cities/Assets/Images/research-page-images/DSI-Deconstructing-health-and-wellbeing/DSI-photo-a-747x420.jpg',), ('/DSI/Assets/images/Partnerships/The-Turing-University-Network-747x420.jpg',), ('/DSI/Assets/images/SchoolImages/-DSC6185-747x420.jpg',), ('/school-of-public-policy/assets/Images/Study-pages/16-9-ratio-Research-Students-5000.jpg',), ('/DSI/Assets/images/Web-Content/LSE-Executive-Education-Cropped-747x420.jpg',), ('/DSI/Assets/images/Events/2024/0615-ai-guardians-lse-festival/24.06.15-ai-guardians-747x420.jpg',), ('/DSI/Assets/images/Events/2024/0615-Lego-workshop/family-day-23-0683-747x420-purple-pic23-1.jpg',), ('/DSI/Assets/images/Events/2024/0626-Salman-Khan/24.06.26-Brave-new-world-747x420-head.png',), ('/DSI/Assets/images/Blogs/24.04.10-Studying-AI-747x420-Cropped-747x420.jpg',), ('/DSI/Assets/images/Blogs/24.03.22-AI-and-health-Cropped-747x420.jpg',), ('/DSI/Assets/images/Blogs/24.05.15-Blog-AI-and-the-NHS-747x420.jpg',), ('/DSI/Assets/images/Events/2024/Madhumita-Murgia-747x420.jpg',), ('/DSI/Assets/images/Events/2024/0307-Turing-AI-Literacy/747x420AILiteracy.jpg',)]\n"
     ]
    }
   ],
   "source": [
    "#Display the image_src column in Box table\n",
    "cursor.execute(f\"SELECT image_src FROM {table}\")\n",
    "titles_box = cursor.fetchall()\n",
    "print(titles_box)"
   ]
  },
  {
   "cell_type": "code",
   "execution_count": 44,
   "metadata": {},
   "outputs": [
    {
     "name": "stdout",
     "output_type": "stream",
     "text": [
      "   id                 origin_url  \\\n",
      "0   1  https://www.lse.ac.uk/DSI   \n",
      "1   2  https://www.lse.ac.uk/DSI   \n",
      "2   3  https://www.lse.ac.uk/DSI   \n",
      "3   4  https://www.lse.ac.uk/DSI   \n",
      "4   5  https://www.lse.ac.uk/DSI   \n",
      "\n",
      "                                                 url  \\\n",
      "0                         /DSI/News/Discover-the-DSI   \n",
      "1  /Cities/research/cities-space-and-society/Deco...   \n",
      "2                     /DSI/Turing-University-Network   \n",
      "3                                         /DSI/study   \n",
      "4  https://www.lse.ac.uk/study-at-lse/Undergradua...   \n",
      "\n",
      "                              title  \\\n",
      "0     Embedding data science at LSE   \n",
      "1                          Research   \n",
      "2         Turing University Network   \n",
      "3  Study Data Science and AI at LSE   \n",
      "4     BSc Politics and Data Science   \n",
      "\n",
      "                                                html  \\\n",
      "0  <div class=\"component__details\">\\n            ...   \n",
      "1  <div class=\"component__details\">\\n            ...   \n",
      "2  <div class=\"component__details\">\\n            ...   \n",
      "3  <div class=\"component__details\">\\n            ...   \n",
      "4  <div class=\"component__details\">\\n            ...   \n",
      "\n",
      "                                           image_src  \\\n",
      "0  /DSI/Assets/images/DSI-Brand/KB-intro-video-st...   \n",
      "1  /Cities/Assets/Images/research-page-images/DSI...   \n",
      "2  /DSI/Assets/images/Partnerships/The-Turing-Uni...   \n",
      "3  /DSI/Assets/images/SchoolImages/-DSC6185-747x4...   \n",
      "4  /school-of-public-policy/assets/Images/Study-p...   \n",
      "\n",
      "                      image_alt_text                   date_scraped  \n",
      "0       KB intro video still 747x630  Fri, 07 Jun 2024 08:27:54 GMT  \n",
      "1                DSI-photo-a-747x420  Fri, 07 Jun 2024 08:27:54 GMT  \n",
      "2      The-Turing-University-Network  Fri, 07 Jun 2024 08:27:54 GMT  \n",
      "3                   -DSC6185-747x420  Fri, 07 Jun 2024 08:27:54 GMT  \n",
      "4  16 9 ratio-Research_Students_5000  Fri, 07 Jun 2024 08:27:54 GMT  \n"
     ]
    }
   ],
   "source": [
    "#create a pandas dataframe from the Box table\n",
    "\n",
    "query = f\"SELECT * FROM {table};\"\n",
    "df = pd.read_sql_query(query, conn)\n",
    "print(df.head())\n",
    "\n"
   ]
  },
  {
   "cell_type": "markdown",
   "metadata": {},
   "source": [
    "It appears that the Boxes table is not in fact empty, as seen from the pandas dataframe above. "
   ]
  },
  {
   "cell_type": "code",
   "execution_count": 45,
   "metadata": {},
   "outputs": [],
   "source": [
    "conn.close()"
   ]
  }
 ],
 "metadata": {
  "kernelspec": {
   "display_name": "Python 3",
   "language": "python",
   "name": "python3"
  },
  "language_info": {
   "codemirror_mode": {
    "name": "ipython",
    "version": 3
   },
   "file_extension": ".py",
   "mimetype": "text/x-python",
   "name": "python",
   "nbconvert_exporter": "python",
   "pygments_lexer": "ipython3",
   "version": "3.12.0"
  }
 },
 "nbformat": 4,
 "nbformat_minor": 2
}
