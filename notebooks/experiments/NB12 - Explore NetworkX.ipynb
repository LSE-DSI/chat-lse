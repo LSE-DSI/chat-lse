{
 "cells": [
  {
   "cell_type": "markdown",
   "metadata": {},
   "source": [
    "# NB12 - Explere NetworkX for course information"
   ]
  },
  {
   "cell_type": "markdown",
   "metadata": {},
   "source": [
    "## 1. Download Dataset"
   ]
  },
  {
   "cell_type": "code",
   "execution_count": 7,
   "metadata": {},
   "outputs": [],
   "source": [
    "import pandas as pd\n",
    "import os"
   ]
  },
  {
   "cell_type": "code",
   "execution_count": 11,
   "metadata": {},
   "outputs": [],
   "source": [
    "#DATA_FOLDER = os.path.join(os.path.dirname(os.path.realpath(__file__)), '..', '..', 'data')\n",
    "#This should take about 1 minute\n",
    "df = pd.read_csv(\"/Users/jamie/Desktop/chatlse2024/chat-lse/data/data-1726582420261.csv\")  "
   ]
  },
  {
   "cell_type": "code",
   "execution_count": 12,
   "metadata": {},
   "outputs": [
    {
     "name": "stdout",
     "output_type": "stream",
     "text": [
      "                                      id                            doc_id  \\\n",
      "0  da348735232470b30072b605c6f03280_3339  da348735232470b30072b605c6f03280   \n",
      "1  da348735232470b30072b605c6f03280_3340  da348735232470b30072b605c6f03280   \n",
      "2  da348735232470b30072b605c6f03280_3341  da348735232470b30072b605c6f03280   \n",
      "3  da348735232470b30072b605c6f03280_3344  da348735232470b30072b605c6f03280   \n",
      "4  da348735232470b30072b605c6f03280_3345  da348735232470b30072b605c6f03280   \n",
      "\n",
      "   chunk_id type                                                url  \\\n",
      "0      3339  pdf  https://info.lse.ac.uk/staff/divisions/academi...   \n",
      "1      3340  pdf  https://info.lse.ac.uk/staff/divisions/academi...   \n",
      "2      3341  pdf  https://info.lse.ac.uk/staff/divisions/academi...   \n",
      "3      3344  pdf  https://info.lse.ac.uk/staff/divisions/academi...   \n",
      "4      3345  pdf  https://info.lse.ac.uk/staff/divisions/academi...   \n",
      "\n",
      "                                title  \\\n",
      "0  CourseGuidesProgrammeRegs22-23.pdf   \n",
      "1  CourseGuidesProgrammeRegs22-23.pdf   \n",
      "2  CourseGuidesProgrammeRegs22-23.pdf   \n",
      "3  CourseGuidesProgrammeRegs22-23.pdf   \n",
      "4  CourseGuidesProgrammeRegs22-23.pdf   \n",
      "\n",
      "                                             content         date_scraped  \\\n",
      "0  There will be a few flipped-lectures delivered...  2024-09-01 07:23:11   \n",
      "1  This course is available with permission as an...  2024-09-01 07:23:11   \n",
      "2  The rebirth of history: Times of riots and upr...  2024-09-01 07:23:11   \n",
      "3  The course is structured into two main parts. ...  2024-09-01 07:23:11   \n",
      "4  Harvard University Press. Chapter 6. • Cohen, ...  2024-09-01 07:23:11   \n",
      "\n",
      "                                           embedding  \n",
      "0  [-0.007207712,-0.006663159,-0.0092338035,-0.00...  \n",
      "1  [0.0037330631,-0.00090431486,-0.017718589,0.00...  \n",
      "2  [0.005320583,-0.013757651,0.0041693905,0.01184...  \n",
      "3  [-0.0032328854,-0.011152743,0.005761488,-0.011...  \n",
      "4  [-0.009487509,-0.036937874,0.0102502,0.0036563...  \n",
      "Index(['id', 'doc_id', 'chunk_id', 'type', 'url', 'title', 'content',\n",
      "       'date_scraped', 'embedding'],\n",
      "      dtype='object')\n"
     ]
    }
   ],
   "source": [
    "print(df.head())\n",
    "print(df.columns)\n"
   ]
  }
 ],
 "metadata": {
  "kernelspec": {
   "display_name": "chat-lse",
   "language": "python",
   "name": "python3"
  },
  "language_info": {
   "codemirror_mode": {
    "name": "ipython",
    "version": 3
   },
   "file_extension": ".py",
   "mimetype": "text/x-python",
   "name": "python",
   "nbconvert_exporter": "python",
   "pygments_lexer": "ipython3",
   "version": "3.11.9"
  }
 },
 "nbformat": 4,
 "nbformat_minor": 2
}
