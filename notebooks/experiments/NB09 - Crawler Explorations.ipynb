{
 "cells": [
  {
   "cell_type": "code",
   "execution_count": 6,
   "metadata": {},
   "outputs": [],
   "source": [
    "import requests\n",
    "import scrapy\n",
    "from scrapy import Selector\n",
    "import pandas as pd     \n"
   ]
  },
  {
   "cell_type": "code",
   "execution_count": 11,
   "metadata": {},
   "outputs": [],
   "source": [
    "url = 'http://www.lse.ac.uk/statistics/home.aspx'\n",
    "response = requests.get(url)\n",
    "selector = Selector(text=response.text)\n",
    "\n"
   ]
  },
  {
   "cell_type": "code",
   "execution_count": 13,
   "metadata": {},
   "outputs": [],
   "source": [
    "links = selector.css('a::attr(href)').extract()"
   ]
  },
  {
   "cell_type": "code",
   "execution_count": 15,
   "metadata": {},
   "outputs": [
    {
     "name": "stdout",
     "output_type": "stream",
     "text": [
      "                                                links\n",
      "50                     https://www.lse.ac.uk/business\n",
      "51        https://info.lse.ac.uk/coronavirus-response\n",
      "52                                                  #\n",
      "53                           /statistics/welcome-2024\n",
      "54                   /statistics/prospective-students\n",
      "55                       /statistics/current-students\n",
      "56                      /statistics/msc-offer-holders\n",
      "57                                 /statistics/alumni\n",
      "58                               /statistics/research\n",
      "59                                 /statistics/people\n",
      "60                                   /statistics/news\n",
      "61                                 /statistics/events\n",
      "62                               /statistics/seminars\n",
      "63                               /statistics/equality\n",
      "64                             /statistics/contact-us\n",
      "65                                /statistics/welcome\n",
      "66                      /statistics/msc-offer-holders\n",
      "67                                             #media\n",
      "68                               /statistics/research\n",
      "69                                             #media\n",
      "70                                             #media\n",
      "71                                             #media\n",
      "72                  /statistics/research/data-science\n",
      "73  /statistics/research/probability-in-finance-an...\n",
      "74             /statistics/research/social-statistics\n",
      "75  /statistics/research/time-series-and-statistic...\n",
      "76                          https://www.lse.ac.uk/dsi\n",
      "77              tel:Please email statistics@lse.ac.uk\n",
      "78                        mailto:statistics@lse.ac.uk\n",
      "79  https://www.google.co.uk/maps/place/London+WC2...\n"
     ]
    }
   ],
   "source": [
    "df = pd.DataFrame(links, columns=['links'])\n",
    "print(df[50:80])"
   ]
  },
  {
   "cell_type": "code",
   "execution_count": 10,
   "metadata": {},
   "outputs": [
    {
     "name": "stdout",
     "output_type": "stream",
     "text": [
      "#navtrail\n",
      "/#navtrail\n"
     ]
    },
    {
     "ename": "AttributeError",
     "evalue": "'Response' object has no attribute 'urljoin'",
     "output_type": "error",
     "traceback": [
      "\u001b[0;31m---------------------------------------------------------------------------\u001b[0m",
      "\u001b[0;31mAttributeError\u001b[0m                            Traceback (most recent call last)",
      "Cell \u001b[0;32mIn[10], line 6\u001b[0m\n\u001b[1;32m      4\u001b[0m link \u001b[38;5;241m=\u001b[39m \u001b[38;5;124m\"\u001b[39m\u001b[38;5;124m/\u001b[39m\u001b[38;5;124m\"\u001b[39m \u001b[38;5;241m+\u001b[39m link\n\u001b[1;32m      5\u001b[0m \u001b[38;5;28mprint\u001b[39m(link)\n\u001b[0;32m----> 6\u001b[0m \u001b[43mresponse\u001b[49m\u001b[38;5;241;43m.\u001b[39;49m\u001b[43murljoin\u001b[49m(link)\n",
      "\u001b[0;31mAttributeError\u001b[0m: 'Response' object has no attribute 'urljoin'"
     ]
    }
   ],
   "source": [
    "for link in links:\n",
    "    print(link)\n",
    "    if not link.startswith('http'):\n",
    "        link = \"/\" + link\n",
    "        print(link)\n",
    "        response.urljoin(link)"
   ]
  }
 ],
 "metadata": {
  "kernelspec": {
   "display_name": "chat-lse",
   "language": "python",
   "name": "python3"
  },
  "language_info": {
   "codemirror_mode": {
    "name": "ipython",
    "version": 3
   },
   "file_extension": ".py",
   "mimetype": "text/x-python",
   "name": "python",
   "nbconvert_exporter": "python",
   "pygments_lexer": "ipython3",
   "version": "3.11.9"
  }
 },
 "nbformat": 4,
 "nbformat_minor": 2
}
