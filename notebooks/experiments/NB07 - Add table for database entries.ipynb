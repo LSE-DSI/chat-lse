{
 "cells": [
  {
   "cell_type": "markdown",
   "metadata": {},
   "source": [
    "## __NB07 - Add table for database entries__"
   ]
  },
  {
   "cell_type": "markdown",
   "metadata": {},
   "source": [
    "First, we will query the database and retrieve the urls and files ingested. This will ensure that the documents/websites are indeed stored in the database and accessible, as opposed to simply having been scraped but failing to be stored."
   ]
  },
  {
   "cell_type": "code",
   "execution_count": 15,
   "metadata": {},
   "outputs": [],
   "source": [
    "#query the postgres database\n",
    "\n",
    "import psycopg2\n",
    "\n",
    "def query():\n",
    "    try:\n",
    "        conn = psycopg2.connect(\n",
    "            dbname=\"chatlse\",\n",
    "            user=\"chatlse\",\n",
    "            password=\"chatlse\",  # replace with your PostgreSQL password\n",
    "            host=\"localhost\",  # use 'localhost' if running locally or the container's IP address\n",
    "            port=\"5432\"  # default PostgreSQL port\n",
    "        )\n",
    "        conn = psycopg2.connect(\"dbname=chatlse\")\n",
    "        cur = conn.cursor()\n",
    "        cur.execute(\"select title from lse_doc\")\n",
    "        rows = cur.fetchall()\n",
    "        for row in rows:\n",
    "            print(row)\n",
    "        cur.close()\n",
    "        conn.close()\n",
    "    except Exception as e:\n",
    "        print(\"Error: \", e)\n"
   ]
  },
  {
   "cell_type": "code",
   "execution_count": 22,
   "metadata": {},
   "outputs": [
    {
     "name": "stdout",
     "output_type": "stream",
     "text": [
      "Error:  connection to server at \"localhost\" (::1), port 5432 failed: Connection refused\n",
      "\tIs the server running on that host and accepting TCP/IP connections?\n",
      "connection to server at \"localhost\" (127.0.0.1), port 5432 failed: Connection refused\n",
      "\tIs the server running on that host and accepting TCP/IP connections?\n",
      "\n"
     ]
    }
   ],
   "source": [
    "query()"
   ]
  }
 ],
 "metadata": {
  "kernelspec": {
   "display_name": "chat-lse",
   "language": "python",
   "name": "python3"
  },
  "language_info": {
   "codemirror_mode": {
    "name": "ipython",
    "version": 3
   },
   "file_extension": ".py",
   "mimetype": "text/x-python",
   "name": "python",
   "nbconvert_exporter": "python",
   "pygments_lexer": "ipython3",
   "version": "3.11.9"
  }
 },
 "nbformat": 4,
 "nbformat_minor": 2
}
