{
 "cells": [
  {
   "cell_type": "code",
   "execution_count": 4,
   "metadata": {},
   "outputs": [
    {
     "name": "stdout",
     "output_type": "stream",
     "text": [
      "Requirement already satisfied: requests in /opt/miniconda3/envs/chat-lse/lib/python3.11/site-packages (2.31.0)\n",
      "Requirement already satisfied: charset-normalizer<4,>=2 in /opt/miniconda3/envs/chat-lse/lib/python3.11/site-packages (from requests) (3.3.2)\n",
      "Requirement already satisfied: idna<4,>=2.5 in /opt/miniconda3/envs/chat-lse/lib/python3.11/site-packages (from requests) (3.7)\n",
      "Requirement already satisfied: urllib3<3,>=1.21.1 in /opt/miniconda3/envs/chat-lse/lib/python3.11/site-packages (from requests) (2.2.1)\n",
      "Requirement already satisfied: certifi>=2017.4.17 in /opt/miniconda3/envs/chat-lse/lib/python3.11/site-packages (from requests) (2024.2.2)\n"
     ]
    }
   ],
   "source": [
    "from crawler.items import FilesScraperItem"
   ]
  },
  {
   "cell_type": "code",
   "execution_count": 8,
   "metadata": {},
   "outputs": [],
   "source": [
    "import requests\n",
    "from scrapy import Selector\n",
    "\n",
    "url = 'https://www.lsesu.com/union/'\n",
    "response = requests.get(url)\n",
    "sel = Selector(text=response.text)\n"
   ]
  },
  {
   "cell_type": "code",
   "execution_count": null,
   "metadata": {},
   "outputs": [],
   "source": [
    "for next_page_url in response.css(\"a.btn btn-link btn-download::attr(href)\").extract():\n",
    "    next_page_url = response.urljoin(next_page_url)\n",
    "    if next_page_url not in self.visited:\n",
    "        self.visited.append(next_page_url)\n",
    "        if next_page_url.endswith(('.pdf')):\n",
    "                yield scrapy.Request(response.urljoin(next_page_url), callback=self.save_file)\n",
    "                file_item = FilesScraperItem()\n",
    "                file_item[\"url\"] = response.urljoin(next_page_url)\n",
    "                file_item[\"title\"] = next_page_url.split('/')[-1]\n",
    "                file_item[\"file_path\"] = os.path.join(\n",
    "                    'data/files/', file_item[\"title\"])\n",
    "                file_item[\"date_scraped\"] = file_item['date_scraped'] = self.parse_as_datetime(\n",
    "                    response.headers['Date'].decode())\n",
    "\n",
    "                yield file_item\n",
    "                "
   ]
  }
 ],
 "metadata": {
  "kernelspec": {
   "display_name": "chat-lse",
   "language": "python",
   "name": "python3"
  },
  "language_info": {
   "codemirror_mode": {
    "name": "ipython",
    "version": 3
   },
   "file_extension": ".py",
   "mimetype": "text/x-python",
   "name": "python",
   "nbconvert_exporter": "python",
   "pygments_lexer": "ipython3",
   "version": "3.11.9"
  }
 },
 "nbformat": 4,
 "nbformat_minor": 2
}
