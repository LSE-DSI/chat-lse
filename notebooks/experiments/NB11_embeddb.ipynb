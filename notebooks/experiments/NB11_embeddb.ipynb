{
 "cells": [
  {
   "cell_type": "code",
   "execution_count": 1,
   "metadata": {},
   "outputs": [],
   "source": [
    "\n",
    "## Load packages\n",
    "\n",
    "import asyncio\n",
    "import pandas as pd\n",
    "import os\n",
    "import openai\n",
    "from openai import OpenAI\n",
    "from dotenv import load_dotenv\n",
    "from sqlalchemy import create_engine\n",
    "from tqdm import tqdm\n",
    "from string import Template\n",
    "import json \n",
    "from neo4j import GraphDatabase\n",
    "from timeit import default_timer as timer\n",
    "import psycopg2\n",
    "from pprint import pprint\n",
    "import igraph as ig\n",
    "import leidenalg as la\n",
    "import re\n",
    "from llama_index.embeddings.huggingface import HuggingFaceEmbedding"
   ]
  },
  {
   "cell_type": "code",
   "execution_count": 2,
   "metadata": {},
   "outputs": [],
   "source": [
    "from chatlse.embeddings import compute_text_embedding"
   ]
  },
  {
   "cell_type": "code",
   "execution_count": 3,
   "metadata": {},
   "outputs": [],
   "source": [
    "## OpenAI API credentials\n",
    "load_dotenv()\n",
    "\n",
    "openai_api_key= os.getenv('OPENAI_API_KEY')\n",
    "embed_model = os.getenv('OLLAMA_EMBED_MODEL')\n",
    "\n",
    "## Neo4j credentials\n",
    "\n",
    "neo4j_url = os.getenv(\"NEO4J_URI\")\n",
    "neo4j_user = os.getenv(\"NEO4J_USERNAME\")\n",
    "neo4j_password = os.getenv(\"NEO4J_PASSWORD\")\n",
    "gds = GraphDatabase.driver(neo4j_url, auth = (neo4j_user, neo4j_password))"
   ]
  },
  {
   "cell_type": "code",
   "execution_count": 5,
   "metadata": {},
   "outputs": [],
   "source": [
    "retrieve_data = '''\n",
    "    MATCH (n)\n",
    "    RETURN n.doc_id as doc_id, n.name as name'''\n",
    "\n",
    "results = gds.execute_query(retrieve_data)    \n",
    "nodes = [record.data() for record in results[0]]"
   ]
  },
  {
   "cell_type": "code",
   "execution_count": 7,
   "metadata": {},
   "outputs": [
    {
     "name": "stdout",
     "output_type": "stream",
     "text": [
      "Node 00019fdfa72ca963b5d236470f52e2e4 has no name\n",
      "Updated node ('David Stainforth', '00019fdfa72ca963b5d236470f52e2e4') with embedding\n",
      "Updated node ('Public LSE Event with David Stainforth', '00019fdfa72ca963b5d236470f52e2e4') with embedding\n",
      "Updated node ('Wellbeing and Mental Health Policy', '001a5f6677681e52d4bf6d29614b2983') with embedding\n"
     ]
    }
   ],
   "source": [
    "for node in nodes:\n",
    "    name = node['name']\n",
    "    doc_id = node['doc_id']\n",
    "    if name:\n",
    "        embeddings = await compute_text_embedding(name, embed_model)\n",
    "        gds.execute_query(f'''\n",
    "            MATCH (n)\n",
    "            WHERE (n.doc_id = \"{doc_id}\" AND n.embedding IS NULL)\n",
    "            SET n.embedding = {embeddings}\n",
    "        ''')\n",
    "        print(f\"Updated node {name, doc_id} with embedding\")\n",
    "    else:\n",
    "        print(f\"Node {doc_id} has no name\")\n"
   ]
  }
 ],
 "metadata": {
  "kernelspec": {
   "display_name": "chat-lse",
   "language": "python",
   "name": "python3"
  },
  "language_info": {
   "codemirror_mode": {
    "name": "ipython",
    "version": 3
   },
   "file_extension": ".py",
   "mimetype": "text/x-python",
   "name": "python",
   "nbconvert_exporter": "python",
   "pygments_lexer": "ipython3",
   "version": "3.11.9"
  }
 },
 "nbformat": 4,
 "nbformat_minor": 2
}
